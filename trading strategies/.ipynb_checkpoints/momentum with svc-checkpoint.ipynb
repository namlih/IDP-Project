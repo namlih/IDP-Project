{
 "cells": [
  {
   "cell_type": "code",
   "execution_count": 1,
   "metadata": {
    "scrolled": true
   },
   "outputs": [],
   "source": [
    "import pandas as pd\n",
    "import numpy as np\n",
    "from pylab import mpl, plt\n",
    "import warnings\n",
    "warnings.filterwarnings('ignore')"
   ]
  },
  {
   "cell_type": "code",
   "execution_count": 2,
   "metadata": {},
   "outputs": [],
   "source": [
    "plt.style.use('seaborn')\n",
    "mpl.rcParams['font.family'] = 'serif'\n",
    "%matplotlib inline"
   ]
  },
  {
   "cell_type": "markdown",
   "metadata": {},
   "source": [
    "## Data Preparation for Model Training"
   ]
  },
  {
   "cell_type": "markdown",
   "metadata": {},
   "source": [
    "### Data Reading"
   ]
  },
  {
   "cell_type": "code",
   "execution_count": 3,
   "metadata": {},
   "outputs": [],
   "source": [
    "start_date = '2016-01-01'\n",
    "finish_date = '2021-03-01'\n",
    "\n",
    "price = pd.read_csv(\"../data generators/generated_price_data/btc-usd_daily.csv\")\n",
    "price = price[['market','day','close']]\n",
    "price.index = price['day']\n",
    "price = price[(price['day'] >= start_date) & (price['day'] <= finish_date)]\n",
    "\n",
    "g_trends = pd.read_csv(\"../data generators/generated_trends_data/bitcoin_daily.csv\")\n",
    "g_trends = g_trends[['keyword','day','trend']]\n",
    "g_trends.index = g_trends['day']\n",
    "g_trends = g_trends[(g_trends['day'] >= start_date) & (g_trends['day'] <= finish_date)]\n",
    "\n",
    "w_pageview = pd.read_csv(\"../data generators/generated_wiki_pageview_data/Bitcoin_daily.csv\")\n",
    "w_pageview = w_pageview[['article','day','pageview']]\n",
    "w_pageview.index = w_pageview['day']\n",
    "w_pageview = w_pageview[(w_pageview['day'] >= start_date) & (w_pageview['day'] <= finish_date)]"
   ]
  },
  {
   "cell_type": "code",
   "execution_count": 4,
   "metadata": {},
   "outputs": [
    {
     "name": "stdout",
     "output_type": "stream",
     "text": [
      "window_len 2\n",
      "features all\n",
      "Fitting 4 folds for each of 8 candidates, totalling 32 fits\n"
     ]
    },
    {
     "name": "stderr",
     "output_type": "stream",
     "text": [
      "[Parallel(n_jobs=-1)]: Using backend LokyBackend with 8 concurrent workers.\n",
      "[Parallel(n_jobs=-1)]: Done  32 out of  32 | elapsed:    1.3s finished\n",
      "[Parallel(n_jobs=-1)]: Using backend LokyBackend with 8 concurrent workers.\n"
     ]
    },
    {
     "name": "stdout",
     "output_type": "stream",
     "text": [
      "{'kernel': 'rbf', 'gamma': 'scale', 'C': 0.1}\n",
      "\ttraining score: 0.5672153635116598\n",
      "\ttest score: 0.6088992974238876\n",
      "features price\n",
      "Fitting 4 folds for each of 8 candidates, totalling 32 fits\n"
     ]
    },
    {
     "name": "stderr",
     "output_type": "stream",
     "text": [
      "[Parallel(n_jobs=-1)]: Done  32 out of  32 | elapsed:    0.2s finished\n"
     ]
    },
    {
     "name": "stdout",
     "output_type": "stream",
     "text": [
      "{'kernel': 'rbf', 'gamma': 'scale', 'C': 0.1}\n",
      "\ttraining score: 0.5507544581618655\n",
      "\ttest score: 0.5690866510538641\n",
      "window_len 7\n",
      "features all\n",
      "Fitting 4 folds for each of 8 candidates, totalling 32 fits\n"
     ]
    },
    {
     "name": "stderr",
     "output_type": "stream",
     "text": [
      "[Parallel(n_jobs=-1)]: Using backend LokyBackend with 8 concurrent workers.\n",
      "[Parallel(n_jobs=-1)]: Done  32 out of  32 | elapsed:    0.5s finished\n"
     ]
    },
    {
     "name": "stdout",
     "output_type": "stream",
     "text": [
      "{'kernel': 'rbf', 'gamma': 'scale', 'C': 10}\n",
      "\ttraining score: 0.9435650378527185\n",
      "\ttest score: 0.5667447306791569\n",
      "features price\n",
      "Fitting 4 folds for each of 8 candidates, totalling 32 fits\n"
     ]
    },
    {
     "name": "stderr",
     "output_type": "stream",
     "text": [
      "[Parallel(n_jobs=-1)]: Using backend LokyBackend with 8 concurrent workers.\n"
     ]
    },
    {
     "name": "stdout",
     "output_type": "stream",
     "text": [
      "{'kernel': 'rbf', 'gamma': 'scale', 'C': 0.1}\n",
      "\ttraining score: 0.5519614590502409\n",
      "\ttest score: 0.5690866510538641\n"
     ]
    },
    {
     "name": "stderr",
     "output_type": "stream",
     "text": [
      "[Parallel(n_jobs=-1)]: Done  32 out of  32 | elapsed:    0.3s finished\n"
     ]
    }
   ],
   "source": [
    "from sklearn.model_selection import RandomizedSearchCV\n",
    "from sklearn.svm import SVC\n",
    "\n",
    "### Feature Extraction\n",
    "def create_features(data,key_val,window_len):\n",
    "    features = np.zeros((1,window_len))\n",
    "    for t in range(data.shape[0]-window_len):\n",
    "        d = data[key_val].values[t:t+window_len].reshape(1,window_len)\n",
    "        \n",
    "        #Normalization to z-scores\n",
    "        d = (d-d.mean())/np.std(d)\n",
    "        features = np.nan_to_num(np.concatenate((features,d)))\n",
    "    return features[1:,:]\n",
    "\n",
    "preds = dict()\n",
    "window_len_list = [2,7]\n",
    "for window_len in window_len_list:\n",
    "    print('window_len',window_len)\n",
    "    price_features = create_features(price,'close',window_len)\n",
    "    g_trends_features = create_features(g_trends,'trend',window_len)\n",
    "    w_pageview_features = create_features(w_pageview,'pageview',window_len)\n",
    "\n",
    "    features = np.hstack((price_features,g_trends_features,w_pageview_features))\n",
    "    features_small = price_features\n",
    "    \n",
    "    ### Assigning Class Labels\n",
    "\n",
    "    returns = (price['close'] / price['close'].shift(1))-1\n",
    "    returns = returns[window_len:]\n",
    "    classes = np.array([ 1 if r >= 0 else -1 for r in returns ])\n",
    "    classes = classes.reshape(classes.shape[0],1)\n",
    "    classes.shape\n",
    "\n",
    "    ### Model Training & Hyperparameter Tuning\n",
    "\n",
    "    features_dict = {'all':features,'price':features_small}\n",
    "    for features_k in features_dict.keys():\n",
    "        print('features',features_k)\n",
    "        features = features_dict[features_k]\n",
    "        train_len = features.shape[0]-price[price['day'] >= '2019-12-31'].shape[0]\n",
    "        x_train = features[:train_len,:]\n",
    "        y_train = classes[:train_len,:]\n",
    "\n",
    "        x_test = features[train_len:,:]\n",
    "        y_test = classes[train_len:,:]\n",
    "\n",
    "        random_grid = {'C': [0.1, 1, 5, 10], 'gamma': ['scale','auto'], 'kernel': ['rbf']}\n",
    "\n",
    "        svc = SVC()\n",
    "        svc_random = RandomizedSearchCV(estimator = svc, \n",
    "                                       param_distributions = random_grid, \n",
    "                                       n_iter = 50, \n",
    "                                       cv = 4, \n",
    "                                       verbose=2, \n",
    "                                       random_state=42, \n",
    "                                       n_jobs = -1)\n",
    "        #Fit the random search model\n",
    "        svc_random.fit(x_train, y_train)\n",
    "        print(svc_random.best_params_)\n",
    "        model = SVC(C=svc_random.best_params_['C'],gamma=svc_random.best_params_['gamma'],kernel=svc_random.best_params_['kernel'])\n",
    "        model.fit(x_train,y_train)\n",
    "\n",
    "        print('\\ttraining score:',model.score(x_train, y_train))\n",
    "        print('\\ttest score:',model.score(x_test,y_test))\n",
    "        \n",
    "        preds['svc_w'+str(window_len)+'_feature_'+features_k] = model.predict(x_test)[1:]"
   ]
  },
  {
   "cell_type": "code",
   "execution_count": 5,
   "metadata": {},
   "outputs": [
    {
     "data": {
      "text/plain": [
       "dict_keys(['svc_w2_feature_all', 'svc_w2_feature_price', 'svc_w7_feature_all', 'svc_w7_feature_price'])"
      ]
     },
     "execution_count": 5,
     "metadata": {},
     "output_type": "execute_result"
    }
   ],
   "source": [
    "preds.keys()"
   ]
  },
  {
   "cell_type": "markdown",
   "metadata": {},
   "source": [
    "### Momentum with SVC"
   ]
  },
  {
   "cell_type": "code",
   "execution_count": 1,
   "metadata": {},
   "outputs": [],
   "source": [
    "#take proportion of the data\n",
    "test_data = price[(price['day'] >= '2019-12-31')]\n",
    "\n",
    "#find buy&hold strategy returns\n",
    "test_data['returns'] = (test_data['close'] / test_data['close'].shift(1))-1\n",
    "test_data.dropna(inplace=True)\n",
    "test_data['buy&hold'] = (1+test_data['returns'].values).cumprod()\n",
    "returns_data = test_data[['returns','buy&hold']].copy()\n",
    "\n",
    "#find returns\n",
    "test_data = price[(price['day'] >= '2019-12-31')]\n",
    "test_data['returns'] = (test_data['close'] / test_data['close'].shift(1))-1\n",
    "test_data.dropna(inplace=True)\n",
    "for kp in preds.keys():\n",
    "    test_data[kp+'_returns'] = preds[kp] * test_data['returns']\n",
    "test_data['random_strategy'] = np.where(np.random.rand(test_data.shape[0]) < 0.5, -1, 1)\n",
    "test_data['random_strategy_returns'] = test_data['random_strategy'] * test_data['returns']\n",
    "\n",
    "#find cumulative returns\n",
    "test_data = test_data[test_data['day'] >= '2020-01-01']\n",
    "for kp in preds.keys():\n",
    "    returns_data[kp+'_returns'] = test_data[kp+'_returns'].values\n",
    "    returns_data[kp+'_cum_returns'] = (1+returns_data[kp+'_returns'].values).cumprod()\n",
    "returns_data['random_strategy_cum_returns'] = (1+test_data['random_strategy_returns'].values).cumprod()\n",
    "    \n",
    "plot_title = \"Momentum with SVC\"\n",
    "plot_columns1 = ['buy&hold']+[kp+'_cum_returns' for kp in preds.keys()][:]+['random_strategy_cum_returns']\n",
    "ax = returns_data[plot_columns1].plot(title=plot_title,figsize=(18, 12))\n",
    "ax.set_yscale('log')\n",
    "ax.get_legend()\n",
    "\n",
    "for r in plot_columns1:\n",
    "    print(r, returns_data[r][-1])"
   ]
  },
  {
   "cell_type": "markdown",
   "metadata": {},
   "source": [
    "### Visualizing Positions"
   ]
  },
  {
   "cell_type": "code",
   "execution_count": 2,
   "metadata": {},
   "outputs": [
    {
     "ename": "NameError",
     "evalue": "name 'preds' is not defined",
     "output_type": "error",
     "traceback": [
      "\u001b[0;31m---------------------------------------------------------------------------\u001b[0m",
      "\u001b[0;31mNameError\u001b[0m                                 Traceback (most recent call last)",
      "\u001b[0;32m<ipython-input-2-e4f1f8a8f233>\u001b[0m in \u001b[0;36m<module>\u001b[0;34m\u001b[0m\n\u001b[0;32m----> 1\u001b[0;31m \u001b[0;32mfor\u001b[0m \u001b[0mkp\u001b[0m \u001b[0;32min\u001b[0m \u001b[0mpreds\u001b[0m\u001b[0;34m.\u001b[0m\u001b[0mkeys\u001b[0m\u001b[0;34m(\u001b[0m\u001b[0;34m)\u001b[0m\u001b[0;34m:\u001b[0m\u001b[0;34m\u001b[0m\u001b[0;34m\u001b[0m\u001b[0m\n\u001b[0m\u001b[1;32m      2\u001b[0m     \u001b[0mtest_data\u001b[0m\u001b[0;34m[\u001b[0m\u001b[0mkp\u001b[0m\u001b[0;34m+\u001b[0m\u001b[0;34m'_position'\u001b[0m\u001b[0;34m]\u001b[0m \u001b[0;34m=\u001b[0m \u001b[0mpreds\u001b[0m\u001b[0;34m[\u001b[0m\u001b[0mkp\u001b[0m\u001b[0;34m]\u001b[0m\u001b[0;34m\u001b[0m\u001b[0;34m\u001b[0m\u001b[0m\n\u001b[1;32m      3\u001b[0m     \u001b[0max\u001b[0m \u001b[0;34m=\u001b[0m \u001b[0mtest_data\u001b[0m\u001b[0;34m[\u001b[0m\u001b[0;34m[\u001b[0m\u001b[0mkp\u001b[0m\u001b[0;34m+\u001b[0m\u001b[0;34m'_position'\u001b[0m\u001b[0;34m,\u001b[0m\u001b[0;34m'close'\u001b[0m\u001b[0;34m]\u001b[0m\u001b[0;34m]\u001b[0m\u001b[0;34m.\u001b[0m\u001b[0mplot\u001b[0m\u001b[0;34m(\u001b[0m\u001b[0mtitle\u001b[0m\u001b[0;34m=\u001b[0m\u001b[0;34m'Position:'\u001b[0m\u001b[0;34m+\u001b[0m\u001b[0mkp\u001b[0m\u001b[0;34m+\u001b[0m\u001b[0;34m'_position'\u001b[0m\u001b[0;34m,\u001b[0m\u001b[0msecondary_y\u001b[0m\u001b[0;34m=\u001b[0m\u001b[0;34m'close'\u001b[0m\u001b[0;34m,\u001b[0m\u001b[0mfigsize\u001b[0m\u001b[0;34m=\u001b[0m\u001b[0;34m(\u001b[0m\u001b[0;36m18\u001b[0m\u001b[0;34m,\u001b[0m \u001b[0;36m8\u001b[0m\u001b[0;34m)\u001b[0m\u001b[0;34m)\u001b[0m\u001b[0;34m\u001b[0m\u001b[0;34m\u001b[0m\u001b[0m\n",
      "\u001b[0;31mNameError\u001b[0m: name 'preds' is not defined"
     ]
    }
   ],
   "source": [
    "for kp in preds.keys():\n",
    "    test_data[kp+'_position'] = preds[kp]\n",
    "    ax = test_data[[kp+'_position','close']].plot(title='Position:'+kp+'_position',secondary_y='close',figsize=(18, 8))"
   ]
  },
  {
   "cell_type": "code",
   "execution_count": null,
   "metadata": {},
   "outputs": [],
   "source": []
  }
 ],
 "metadata": {
  "kernelspec": {
   "display_name": "Python 3",
   "language": "python",
   "name": "python3"
  },
  "language_info": {
   "codemirror_mode": {
    "name": "ipython",
    "version": 3
   },
   "file_extension": ".py",
   "mimetype": "text/x-python",
   "name": "python",
   "nbconvert_exporter": "python",
   "pygments_lexer": "ipython3",
   "version": "3.8.3"
  }
 },
 "nbformat": 4,
 "nbformat_minor": 4
}
