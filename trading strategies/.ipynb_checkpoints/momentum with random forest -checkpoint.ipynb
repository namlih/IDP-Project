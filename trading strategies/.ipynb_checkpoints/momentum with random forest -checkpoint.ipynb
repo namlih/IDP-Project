{
 "cells": [
  {
   "cell_type": "code",
   "execution_count": 1,
   "metadata": {
    "scrolled": true
   },
   "outputs": [],
   "source": [
    "import pandas as pd\n",
    "import numpy as np\n",
    "from pylab import mpl, plt\n",
    "import warnings\n",
    "warnings.filterwarnings('ignore')"
   ]
  },
  {
   "cell_type": "code",
   "execution_count": 2,
   "metadata": {},
   "outputs": [],
   "source": [
    "plt.style.use('seaborn')\n",
    "mpl.rcParams['font.family'] = 'serif'\n",
    "%matplotlib inline"
   ]
  },
  {
   "cell_type": "markdown",
   "metadata": {},
   "source": [
    "## Data Preparation for Model Training"
   ]
  },
  {
   "cell_type": "markdown",
   "metadata": {},
   "source": [
    "### Data Reading"
   ]
  },
  {
   "cell_type": "code",
   "execution_count": 7,
   "metadata": {},
   "outputs": [],
   "source": [
    "start_date = '2016-01-01'\n",
    "finish_date = '2021-03-01'\n",
    "\n",
    "price = pd.read_csv(\"../data generators/generated_price_data/btc-usd_daily.csv\")\n",
    "price = price[['market','day','close']]\n",
    "price.index = price['day']\n",
    "price = price[(price['day'] >= start_date) & (price['day'] <= finish_date)]\n",
    "\n",
    "g_trends = pd.read_csv(\"../data generators/generated_trends_data/bitcoin_daily.csv\")\n",
    "g_trends = g_trends[['keyword','day','trend']]\n",
    "g_trends.index = g_trends['day']\n",
    "g_trends = g_trends[(g_trends['day'] >= start_date) & (g_trends['day'] <= finish_date)]\n",
    "\n",
    "g_trends2 = pd.read_csv(\"../data generators/generated_trends_data/coinbase_daily.csv\")\n",
    "g_trends2 = g_trends2[['keyword','day','trend']]\n",
    "g_trends2.index = g_trends2['day']\n",
    "g_trends2 = g_trends2[(g_trends2['day'] >= start_date) & (g_trends2['day'] <= finish_date)]\n",
    "\n",
    "w_pageview = pd.read_csv(\"../data generators/generated_wiki_pageview_data/Bitcoin_daily.csv\")\n",
    "w_pageview = w_pageview[['article','day','pageview']]\n",
    "w_pageview.index = w_pageview['day']\n",
    "w_pageview = w_pageview[(w_pageview['day'] >= start_date) & (w_pageview['day'] <= finish_date)]"
   ]
  },
  {
   "cell_type": "markdown",
   "metadata": {},
   "source": [
    "### Feature Extraction"
   ]
  },
  {
   "cell_type": "code",
   "execution_count": 35,
   "metadata": {},
   "outputs": [],
   "source": [
    "def create_features(data,key_val,window_len):\n",
    "    features = np.zeros((1,window_len))\n",
    "    for t in range(data.shape[0]-window_len):\n",
    "        d = data[key_val].values[t:t+window_len].reshape(1,window_len)\n",
    "        \n",
    "        #Normalization to z-scores\n",
    "        d = (d-d.mean())/np.std(d)\n",
    "        features = np.concatenate((features,d))\n",
    "    return features[1:,:]\n",
    "\n",
    "window_len = 30\n",
    "price_features = create_features(price,'close',window_len)\n",
    "g_trends_features = create_features(g_trends,'trend',window_len)\n",
    "g_trends2_features = create_features(g_trends2,'trend',window_len)\n",
    "w_pageview_features = create_features(w_pageview,'pageview',window_len)"
   ]
  },
  {
   "cell_type": "code",
   "execution_count": 36,
   "metadata": {},
   "outputs": [
    {
     "data": {
      "text/plain": [
       "(1857, 120)"
      ]
     },
     "execution_count": 36,
     "metadata": {},
     "output_type": "execute_result"
    }
   ],
   "source": [
    "features = np.hstack((price_features,g_trends_features,g_trends2_features,w_pageview_features))\n",
    "features_small = price_features\n",
    "features.shape"
   ]
  },
  {
   "cell_type": "markdown",
   "metadata": {},
   "source": [
    "### Assigning Class Labels"
   ]
  },
  {
   "cell_type": "code",
   "execution_count": 37,
   "metadata": {},
   "outputs": [
    {
     "data": {
      "text/plain": [
       "(1857, 1)"
      ]
     },
     "execution_count": 37,
     "metadata": {},
     "output_type": "execute_result"
    }
   ],
   "source": [
    "returns = (price['close'] / price['close'].shift(1))-1\n",
    "returns = returns[window_len:]\n",
    "classes = np.array([ 1 if r >= 0 else -1 for r in returns ])\n",
    "classes = classes.reshape(classes.shape[0],1)\n",
    "classes.shape"
   ]
  },
  {
   "cell_type": "markdown",
   "metadata": {},
   "source": [
    "### Model Training & Hyperparameter Tuning"
   ]
  },
  {
   "cell_type": "code",
   "execution_count": 38,
   "metadata": {},
   "outputs": [
    {
     "name": "stdout",
     "output_type": "stream",
     "text": [
      "Fitting 5 folds for each of 50 candidates, totalling 250 fits\n"
     ]
    },
    {
     "name": "stderr",
     "output_type": "stream",
     "text": [
      "[Parallel(n_jobs=-1)]: Using backend LokyBackend with 8 concurrent workers.\n",
      "[Parallel(n_jobs=-1)]: Done  25 tasks      | elapsed:    3.0s\n",
      "[Parallel(n_jobs=-1)]: Done 146 tasks      | elapsed:    9.8s\n",
      "[Parallel(n_jobs=-1)]: Done 250 out of 250 | elapsed:   16.2s finished\n"
     ]
    },
    {
     "data": {
      "text/plain": [
       "RandomizedSearchCV(cv=5, estimator=RandomForestClassifier(), n_iter=50,\n",
       "                   n_jobs=-1,\n",
       "                   param_distributions={'bootstrap': [True, False],\n",
       "                                        'max_depth': [2, 5, 10, 20, None],\n",
       "                                        'max_features': ['auto', 'sqrt'],\n",
       "                                        'min_samples_leaf': [1, 5, 10],\n",
       "                                        'min_samples_split': [5, 10, 20],\n",
       "                                        'n_estimators': [20, 30, 40, 50]},\n",
       "                   random_state=42, verbose=2)"
      ]
     },
     "execution_count": 38,
     "metadata": {},
     "output_type": "execute_result"
    }
   ],
   "source": [
    "from sklearn.ensemble import RandomForestClassifier\n",
    "from sklearn.model_selection import RandomizedSearchCV\n",
    "\n",
    "train_len = features.shape[0]-price[price['day'] >= '2019-12-31'].shape[0]\n",
    "x_train = features[:train_len,:]\n",
    "y_train = classes[:train_len,:]\n",
    "\n",
    "x_test = features[train_len:,:]\n",
    "y_test = classes[train_len:,:]\n",
    "\n",
    "random_grid = {'n_estimators': [20,30,40,50],\n",
    "               'max_features': ['auto','sqrt'],\n",
    "               'max_depth': [2,5,10,20,None],\n",
    "               'min_samples_split': [5,10,20],\n",
    "               'min_samples_leaf': [1,5,10],\n",
    "               'bootstrap': [True,False]}\n",
    "\n",
    "rf = RandomForestClassifier()\n",
    "rf_random = RandomizedSearchCV(estimator = rf, \n",
    "                               param_distributions = random_grid, \n",
    "                               n_iter = 50, \n",
    "                               cv = 5, \n",
    "                               verbose=2, \n",
    "                               random_state=42, \n",
    "                               n_jobs = -1)\n",
    "#Fit the random search model\n",
    "rf_random.fit(x_train, y_train)"
   ]
  },
  {
   "cell_type": "code",
   "execution_count": 39,
   "metadata": {},
   "outputs": [
    {
     "data": {
      "text/plain": [
       "{'n_estimators': 50,\n",
       " 'min_samples_split': 10,\n",
       " 'min_samples_leaf': 1,\n",
       " 'max_features': 'auto',\n",
       " 'max_depth': 2,\n",
       " 'bootstrap': False}"
      ]
     },
     "execution_count": 39,
     "metadata": {},
     "output_type": "execute_result"
    }
   ],
   "source": [
    "rf_random.best_params_"
   ]
  },
  {
   "cell_type": "code",
   "execution_count": 40,
   "metadata": {},
   "outputs": [
    {
     "name": "stdout",
     "output_type": "stream",
     "text": [
      "training score: 0.5867132867132867\n",
      "test score: 0.5597189695550351\n"
     ]
    }
   ],
   "source": [
    "model = RandomForestClassifier(n_estimators=rf_random.best_params_['n_estimators'],\n",
    "                               min_samples_split=rf_random.best_params_['min_samples_split'],\n",
    "                               min_samples_leaf=rf_random.best_params_['min_samples_leaf'],\n",
    "                               max_features=rf_random.best_params_['max_features'],\n",
    "                               max_depth=rf_random.best_params_['max_depth'],\n",
    "                               bootstrap=rf_random.best_params_['bootstrap'])\n",
    "model.fit(x_train,y_train)\n",
    "\n",
    "print('training score:',model.score(x_train, y_train))\n",
    "print('test score:',model.score(x_test,y_test))"
   ]
  },
  {
   "cell_type": "code",
   "execution_count": 43,
   "metadata": {},
   "outputs": [
    {
     "data": {
      "text/plain": [
       "array([0.        , 0.0044469 , 0.        , 0.        , 0.00859376,\n",
       "       0.        , 0.        , 0.        , 0.013136  , 0.0188624 ,\n",
       "       0.0654954 , 0.02177595, 0.        , 0.00684298, 0.        ,\n",
       "       0.00348369, 0.        , 0.00586718, 0.00404666, 0.        ,\n",
       "       0.02511875, 0.        , 0.00653274, 0.00943162, 0.04937342,\n",
       "       0.00428975, 0.0295226 , 0.07879651, 0.03547866, 0.020816  ,\n",
       "       0.00880031, 0.0415801 , 0.00599952, 0.        , 0.        ,\n",
       "       0.        , 0.01281743, 0.        , 0.        , 0.        ,\n",
       "       0.00447414, 0.04982326, 0.        , 0.00163021, 0.00711813,\n",
       "       0.        , 0.        , 0.        , 0.        , 0.0028357 ,\n",
       "       0.        , 0.        , 0.00789496, 0.        , 0.        ,\n",
       "       0.01401765, 0.04410777, 0.05381292, 0.01972136, 0.00847535,\n",
       "       0.        , 0.0042785 , 0.02179884, 0.        , 0.        ,\n",
       "       0.00587292, 0.        , 0.00542135, 0.        , 0.02426864,\n",
       "       0.        , 0.00444091, 0.        , 0.01107039, 0.        ,\n",
       "       0.01329958, 0.        , 0.        , 0.00696557, 0.        ,\n",
       "       0.        , 0.        , 0.        , 0.01788142, 0.01203367,\n",
       "       0.00254218, 0.02674545, 0.00547518, 0.00423249, 0.04305222,\n",
       "       0.        , 0.        , 0.        , 0.        , 0.00704344,\n",
       "       0.        , 0.        , 0.        , 0.        , 0.        ,\n",
       "       0.        , 0.        , 0.        , 0.        , 0.02582266,\n",
       "       0.        , 0.0132005 , 0.        , 0.00476354, 0.        ,\n",
       "       0.        , 0.0048955 , 0.0119238 , 0.00913185, 0.01142033,\n",
       "       0.00739926, 0.        , 0.        , 0.        , 0.        ])"
      ]
     },
     "execution_count": 43,
     "metadata": {},
     "output_type": "execute_result"
    }
   ],
   "source": [
    "model.feature_importances_"
   ]
  },
  {
   "cell_type": "markdown",
   "metadata": {},
   "source": [
    "## Momentum with Random Forest "
   ]
  },
  {
   "cell_type": "code",
   "execution_count": 32,
   "metadata": {},
   "outputs": [
    {
     "data": {
      "text/plain": [
       "<matplotlib.legend.Legend at 0x7fcf1fc32610>"
      ]
     },
     "execution_count": 32,
     "metadata": {},
     "output_type": "execute_result"
    },
    {
     "data": {
      "image/png": "[encoded data removed]",
      "text/plain": [
       "<Figure size 720x432 with 1 Axes>"
      ]
     },
     "metadata": {
      "needs_background": "light"
     },
     "output_type": "display_data"
    }
   ],
   "source": [
    "#take proportion of the data\n",
    "test_data = price[(price['day'] >= '2019-12-31')]\n",
    "\n",
    "#find buy&hold strategy returns\n",
    "test_data['returns'] = (test_data['close'] / test_data['close'].shift(1))-1\n",
    "test_data.dropna(inplace=True)\n",
    "test_data['buy&hold'] = (1+test_data['returns'].values).cumprod()\n",
    "returns_data = test_data[['returns','buy&hold']].copy()\n",
    "\n",
    "\n",
    "#find returns\n",
    "test_data = price[(price['day'] >= '2019-12-31')]\n",
    "test_data['returns'] = (test_data['close'] / test_data['close'].shift(1))-1\n",
    "test_data.dropna(inplace=True)\n",
    "test_data['rf_returns'] = model.predict(x_test)[1:] * test_data['returns']\n",
    "\n",
    "#find cumulative returns\n",
    "test_data = test_data[test_data['day'] >= '2020-01-01']\n",
    "returns_data['rf_returns'] = test_data['rf_returns'].values\n",
    "returns_data['rf_cum_returns'] = (1+returns_data['rf_returns'].values).cumprod()\n",
    "\n",
    "plot_title = \"Momentum with Random Forest Classifier\"\n",
    "ax = returns_data[['buy&hold','rf_cum_returns']].plot(title=plot_title,figsize=(10, 6))\n",
    "ax.get_legend()"
   ]
  },
  {
   "cell_type": "code",
   "execution_count": 30,
   "metadata": {},
   "outputs": [],
   "source": [
    "#ax = test_data[['close','sma1','sma2','position']].plot(secondary_y='position',figsize=(10, 6))\n",
    "#ax.get_legend()"
   ]
  },
  {
   "cell_type": "code",
   "execution_count": null,
   "metadata": {},
   "outputs": [],
   "source": []
  }
 ],
 "metadata": {
  "kernelspec": {
   "display_name": "Python 3",
   "language": "python",
   "name": "python3"
  },
  "language_info": {
   "codemirror_mode": {
    "name": "ipython",
    "version": 3
   },
   "file_extension": ".py",
   "mimetype": "text/x-python",
   "name": "python",
   "nbconvert_exporter": "python",
   "pygments_lexer": "ipython3",
   "version": "3.8.3"
  }
 },
 "nbformat": 4,
 "nbformat_minor": 4
}
