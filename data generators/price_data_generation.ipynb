{
 "cells": [
  {
   "cell_type": "code",
   "execution_count": 1,
   "metadata": {},
   "outputs": [],
   "source": [
    "import pandas as pd\n",
    "import numpy as np"
   ]
  },
  {
   "cell_type": "code",
   "execution_count": 5,
   "metadata": {},
   "outputs": [],
   "source": [
    "from os import listdir\n",
    "from os.path import isfile, join\n",
    "\n",
    "path = \"../price data/candles/\"\n",
    "files = [f for f in listdir(path) if isfile(join(path, f))]"
   ]
  },
  {
   "cell_type": "code",
   "execution_count": 6,
   "metadata": {},
   "outputs": [
    {
     "data": {
      "text/plain": [
       "['candles_eth-usd_24h.csv',\n",
       " 'candles_atom-usd_24h.csv',\n",
       " 'candles_xtz-usd_24h.csv',\n",
       " 'candles_eos-usd_24h.csv',\n",
       " 'candles_trx-usd_24h.csv',\n",
       " 'candles_xrp-usd_24h.csv',\n",
       " 'candles_ada-usd_24h.csv',\n",
       " 'candles_link-usd_24h.csv',\n",
       " 'candles_ltc-usd_24h.csv',\n",
       " 'candles_xlm-usd_24h.csv',\n",
       " 'candles_xmr-usd_24h.csv',\n",
       " 'candles_neo-usd_24h.csv',\n",
       " 'candles_etc-usd_24h.csv',\n",
       " 'candles_btc-usd_24h.csv']"
      ]
     },
     "execution_count": 6,
     "metadata": {},
     "output_type": "execute_result"
    }
   ],
   "source": [
    "files"
   ]
  },
  {
   "cell_type": "code",
   "execution_count": 7,
   "metadata": {},
   "outputs": [],
   "source": [
    "\n",
    "price_col = 'close'\n",
    "\n",
    "#feature_names = [price_col,'sma10','sma21']\n",
    "feature_names = [price_col]\n",
    "\n",
    "for file in files:\n",
    "    data = pd.DataFrame()\n",
    "\n",
    "    #read data\n",
    "    file_path = path+file\n",
    "    d = pd.read_csv(file_path)\n",
    "    d['timestamp'] = [pd.Timestamp(t) for t in d['timestamp']]\n",
    "    \n",
    "    #daily average\n",
    "    d['day'] = [ts.strftime('%Y-%m-%d') for ts in d['timestamp'].to_list()]\n",
    "    d = d.groupby(by=['day']).mean()\n",
    "    d.index = [pd.Timestamp(ts) for ts in d.index.to_list()]\n",
    "    d['day'] = d.index\n",
    "    d['market'] = file[8:15]\n",
    "    \n",
    "    x = d[['market','day',price_col]].copy()\n",
    "    \n",
    "    #generate sma of price\n",
    "    #x[feature_names[1]] = x.rolling(window=int(feature_names[1][-2:]))['close'].mean()\n",
    "    #x[feature_names[2]] = x.rolling(window=int(feature_names[2][-2:]))['close'].mean()\n",
    "    \n",
    "    for feature in feature_names:\n",
    "        x['log_'+feature] = np.log(x[feature])\n",
    "        x['diff_'+feature] = x[feature].diff()\n",
    "        x['log_diff_'+feature] = x['log_'+feature].diff()\n",
    "        x['diff_ratio_'+feature] = (x['diff_'+feature]/x[feature])*100\n",
    "    \n",
    "    data = pd.concat([data,x],ignore_index=True)\n",
    "    data.to_csv(\"generated_price_data/\"+file[8:15]+\"_daily.csv\",index=False)"
   ]
  },
  {
   "cell_type": "code",
   "execution_count": null,
   "metadata": {},
   "outputs": [],
   "source": []
  }
 ],
 "metadata": {
  "kernelspec": {
   "display_name": "Python 3",
   "language": "python",
   "name": "python3"
  },
  "language_info": {
   "codemirror_mode": {
    "name": "ipython",
    "version": 3
   },
   "file_extension": ".py",
   "mimetype": "text/x-python",
   "name": "python",
   "nbconvert_exporter": "python",
   "pygments_lexer": "ipython3",
   "version": "3.8.3"
  }
 },
 "nbformat": 4,
 "nbformat_minor": 4
}
