{
 "cells": [
  {
   "cell_type": "code",
   "execution_count": 1,
   "metadata": {},
   "outputs": [],
   "source": [
    "import pandas as pd\n",
    "from matplotlib import pyplot as plt\n",
    "from sklearn import preprocessing\n",
    "import seaborn as sns\n",
    "import datetime as dt\n",
    "from statsmodels.tsa.stattools import adfuller\n",
    "import numpy as np\n",
    "import scipy\n",
    "import time"
   ]
  },
  {
   "cell_type": "code",
   "execution_count": 2,
   "metadata": {},
   "outputs": [],
   "source": [
    "start_date = '2016-01-04'\n",
    "end_date = '2020-03-01'"
   ]
  },
  {
   "cell_type": "code",
   "execution_count": 3,
   "metadata": {},
   "outputs": [],
   "source": [
    "exchange = \"btc-usd\" "
   ]
  },
  {
   "cell_type": "code",
   "execution_count": 4,
   "metadata": {},
   "outputs": [],
   "source": [
    "data1 = pd.read_csv(\"generated_price_data/\"+exchange+\"_daily.csv\")"
   ]
  },
  {
   "cell_type": "code",
   "execution_count": 5,
   "metadata": {},
   "outputs": [],
   "source": [
    "um = \"trends\" # usermetric: either wiki_pageview or trends \n",
    "ak = \"Coinbase\" #either article name or a keyword name\n",
    "tu = \"daily\" #time unit"
   ]
  },
  {
   "cell_type": "code",
   "execution_count": 6,
   "metadata": {},
   "outputs": [],
   "source": [
    "data2 = pd.read_csv(\"generated_\"+um+\"_data/\"+ak+\"_\"+tu+\".csv\")"
   ]
  },
  {
   "cell_type": "code",
   "execution_count": 7,
   "metadata": {},
   "outputs": [],
   "source": [
    "## Filter data by dates\n",
    "data1.index = [pd.Timestamp(t) for t in data1['day']]\n",
    "data2.index = [pd.Timestamp(t) for t in data2['day']]\n",
    "\n",
    "\n",
    "d1 = data1[start_date:end_date].copy()\n",
    "d2 = data2[start_date:end_date].copy()"
   ]
  },
  {
   "cell_type": "code",
   "execution_count": 8,
   "metadata": {},
   "outputs": [],
   "source": [
    "d1.drop_duplicates(subset=['day'],keep='first',inplace=True)\n",
    "d2.drop_duplicates(subset=['day'],keep='first',inplace=True)"
   ]
  },
  {
   "cell_type": "code",
   "execution_count": 9,
   "metadata": {},
   "outputs": [
    {
     "name": "stdout",
     "output_type": "stream",
     "text": [
      "(1519, 8)\n",
      "(1519, 17)\n"
     ]
    }
   ],
   "source": [
    "print(d1.shape)\n",
    "print(d2.shape)"
   ]
  },
  {
   "cell_type": "code",
   "execution_count": 10,
   "metadata": {},
   "outputs": [],
   "source": [
    "feature_names1 = ['close']\n",
    "feature_names2 = ['trend','sma10','sma21'] #first element either trend or pageview"
   ]
  },
  {
   "cell_type": "code",
   "execution_count": 11,
   "metadata": {},
   "outputs": [],
   "source": [
    "features_interested = ['log_','log_diff_','diff_ratio_']"
   ]
  },
  {
   "cell_type": "code",
   "execution_count": 12,
   "metadata": {},
   "outputs": [],
   "source": [
    "data_dict = dict()\n",
    "\n",
    "lag = 14 \n",
    "window_size = [14,30,60]\n",
    "i=0"
   ]
  },
  {
   "cell_type": "code",
   "execution_count": 13,
   "metadata": {},
   "outputs": [
    {
     "name": "stderr",
     "output_type": "stream",
     "text": [
      "/opt/anaconda3/lib/python3.8/site-packages/scipy/stats/stats.py:3862: RuntimeWarning: invalid value encountered in subtract\n",
      "  ym = y.astype(dtype) - ymean\n"
     ]
    }
   ],
   "source": [
    "st = time.time()\n",
    "for fi in features_interested:\n",
    "    fn1 = [fi+fn for fn in feature_names1]\n",
    "    fn2 = [fi+fn for fn in feature_names2]\n",
    "    for col1 in fn1:\n",
    "        for col2 in fn2:\n",
    "            for w in window_size:\n",
    "                for t in range(d1.shape[0]-lag-w):\n",
    "                    ts_1 = pd.Series(d1.iloc[t+lag:t+lag+w][col1].values)\n",
    "                    tf_1 = str(d1.iloc[t+lag]['day'])+' - '+str(d1.iloc[t+lag+w]['day'])\n",
    "\n",
    "                    for l in range(lag+1):\n",
    "                        ts_2 = pd.Series(d2.iloc[t+l:t+l+w][col2].values)\n",
    "                        tf_2 = str(d2.iloc[t+l]['day'])+' - '+str(d2.iloc[t+l+w]['day'])\n",
    "                        try:\n",
    "                            corr = scipy.stats.pearsonr(np.float32(ts_1.values),np.float32(ts_2.values))[0]\n",
    "                        except:\n",
    "                            corr = np.nan\n",
    "\n",
    "                        data_dict[i] = {\"window_size\":w,\n",
    "                                        \"lag\":lag-l,\n",
    "                                        \"feature_1\":col1,\n",
    "                                        \"feature_1_timeframe\":tf_1,\n",
    "                                        \"feature_2\":col2,\n",
    "                                        \"feature_2_timeframe\":tf_2,\n",
    "                                        \"correlation\":corr}\n",
    "\n",
    "                        i += 1\n",
    "ft = time.time()"
   ]
  },
  {
   "cell_type": "code",
   "execution_count": 14,
   "metadata": {},
   "outputs": [
    {
     "data": {
      "text/plain": [
       "377.18517804145813"
      ]
     },
     "execution_count": 14,
     "metadata": {},
     "output_type": "execute_result"
    }
   ],
   "source": [
    "ft-st"
   ]
  },
  {
   "cell_type": "code",
   "execution_count": 18,
   "metadata": {},
   "outputs": [
    {
     "data": {
      "text/html": [
       "<div>\n",
       "<style scoped>\n",
       "    .dataframe tbody tr th:only-of-type {\n",
       "        vertical-align: middle;\n",
       "    }\n",
       "\n",
       "    .dataframe tbody tr th {\n",
       "        vertical-align: top;\n",
       "    }\n",
       "\n",
       "    .dataframe thead th {\n",
       "        text-align: right;\n",
       "    }\n",
       "</style>\n",
       "<table border=\"1\" class=\"dataframe\">\n",
       "  <thead>\n",
       "    <tr style=\"text-align: right;\">\n",
       "      <th></th>\n",
       "      <th>window_size</th>\n",
       "      <th>lag</th>\n",
       "      <th>feature_1</th>\n",
       "      <th>feature_1_timeframe</th>\n",
       "      <th>feature_2</th>\n",
       "      <th>feature_2_timeframe</th>\n",
       "      <th>correlation</th>\n",
       "    </tr>\n",
       "  </thead>\n",
       "  <tbody>\n",
       "    <tr>\n",
       "      <th>0</th>\n",
       "      <td>14</td>\n",
       "      <td>14</td>\n",
       "      <td>log_close</td>\n",
       "      <td>2016-01-18 - 2016-02-01</td>\n",
       "      <td>log_trend</td>\n",
       "      <td>2016-01-04 - 2016-01-18</td>\n",
       "      <td>-0.189828</td>\n",
       "    </tr>\n",
       "    <tr>\n",
       "      <th>1</th>\n",
       "      <td>14</td>\n",
       "      <td>13</td>\n",
       "      <td>log_close</td>\n",
       "      <td>2016-01-18 - 2016-02-01</td>\n",
       "      <td>log_trend</td>\n",
       "      <td>2016-01-05 - 2016-01-19</td>\n",
       "      <td>-0.152556</td>\n",
       "    </tr>\n",
       "    <tr>\n",
       "      <th>2</th>\n",
       "      <td>14</td>\n",
       "      <td>12</td>\n",
       "      <td>log_close</td>\n",
       "      <td>2016-01-18 - 2016-02-01</td>\n",
       "      <td>log_trend</td>\n",
       "      <td>2016-01-06 - 2016-01-20</td>\n",
       "      <td>-0.257444</td>\n",
       "    </tr>\n",
       "    <tr>\n",
       "      <th>3</th>\n",
       "      <td>14</td>\n",
       "      <td>11</td>\n",
       "      <td>log_close</td>\n",
       "      <td>2016-01-18 - 2016-02-01</td>\n",
       "      <td>log_trend</td>\n",
       "      <td>2016-01-07 - 2016-01-21</td>\n",
       "      <td>-0.500209</td>\n",
       "    </tr>\n",
       "    <tr>\n",
       "      <th>4</th>\n",
       "      <td>14</td>\n",
       "      <td>10</td>\n",
       "      <td>log_close</td>\n",
       "      <td>2016-01-18 - 2016-02-01</td>\n",
       "      <td>log_trend</td>\n",
       "      <td>2016-01-08 - 2016-01-22</td>\n",
       "      <td>-0.363640</td>\n",
       "    </tr>\n",
       "    <tr>\n",
       "      <th>...</th>\n",
       "      <td>...</td>\n",
       "      <td>...</td>\n",
       "      <td>...</td>\n",
       "      <td>...</td>\n",
       "      <td>...</td>\n",
       "      <td>...</td>\n",
       "      <td>...</td>\n",
       "    </tr>\n",
       "    <tr>\n",
       "      <th>595480</th>\n",
       "      <td>60</td>\n",
       "      <td>4</td>\n",
       "      <td>diff_ratio_close</td>\n",
       "      <td>2020-01-01 - 2020-03-01</td>\n",
       "      <td>diff_ratio_sma21</td>\n",
       "      <td>2019-12-28 - 2020-02-26</td>\n",
       "      <td>-0.148762</td>\n",
       "    </tr>\n",
       "    <tr>\n",
       "      <th>595481</th>\n",
       "      <td>60</td>\n",
       "      <td>3</td>\n",
       "      <td>diff_ratio_close</td>\n",
       "      <td>2020-01-01 - 2020-03-01</td>\n",
       "      <td>diff_ratio_sma21</td>\n",
       "      <td>2019-12-29 - 2020-02-27</td>\n",
       "      <td>0.023361</td>\n",
       "    </tr>\n",
       "    <tr>\n",
       "      <th>595482</th>\n",
       "      <td>60</td>\n",
       "      <td>2</td>\n",
       "      <td>diff_ratio_close</td>\n",
       "      <td>2020-01-01 - 2020-03-01</td>\n",
       "      <td>diff_ratio_sma21</td>\n",
       "      <td>2019-12-30 - 2020-02-28</td>\n",
       "      <td>0.015957</td>\n",
       "    </tr>\n",
       "    <tr>\n",
       "      <th>595483</th>\n",
       "      <td>60</td>\n",
       "      <td>1</td>\n",
       "      <td>diff_ratio_close</td>\n",
       "      <td>2020-01-01 - 2020-03-01</td>\n",
       "      <td>diff_ratio_sma21</td>\n",
       "      <td>2019-12-31 - 2020-02-29</td>\n",
       "      <td>0.125860</td>\n",
       "    </tr>\n",
       "    <tr>\n",
       "      <th>595484</th>\n",
       "      <td>60</td>\n",
       "      <td>0</td>\n",
       "      <td>diff_ratio_close</td>\n",
       "      <td>2020-01-01 - 2020-03-01</td>\n",
       "      <td>diff_ratio_sma21</td>\n",
       "      <td>2020-01-01 - 2020-03-01</td>\n",
       "      <td>0.415183</td>\n",
       "    </tr>\n",
       "  </tbody>\n",
       "</table>\n",
       "<p>595485 rows × 7 columns</p>\n",
       "</div>"
      ],
      "text/plain": [
       "        window_size  lag         feature_1      feature_1_timeframe  \\\n",
       "0                14   14         log_close  2016-01-18 - 2016-02-01   \n",
       "1                14   13         log_close  2016-01-18 - 2016-02-01   \n",
       "2                14   12         log_close  2016-01-18 - 2016-02-01   \n",
       "3                14   11         log_close  2016-01-18 - 2016-02-01   \n",
       "4                14   10         log_close  2016-01-18 - 2016-02-01   \n",
       "...             ...  ...               ...                      ...   \n",
       "595480           60    4  diff_ratio_close  2020-01-01 - 2020-03-01   \n",
       "595481           60    3  diff_ratio_close  2020-01-01 - 2020-03-01   \n",
       "595482           60    2  diff_ratio_close  2020-01-01 - 2020-03-01   \n",
       "595483           60    1  diff_ratio_close  2020-01-01 - 2020-03-01   \n",
       "595484           60    0  diff_ratio_close  2020-01-01 - 2020-03-01   \n",
       "\n",
       "               feature_2      feature_2_timeframe  correlation  \n",
       "0              log_trend  2016-01-04 - 2016-01-18    -0.189828  \n",
       "1              log_trend  2016-01-05 - 2016-01-19    -0.152556  \n",
       "2              log_trend  2016-01-06 - 2016-01-20    -0.257444  \n",
       "3              log_trend  2016-01-07 - 2016-01-21    -0.500209  \n",
       "4              log_trend  2016-01-08 - 2016-01-22    -0.363640  \n",
       "...                  ...                      ...          ...  \n",
       "595480  diff_ratio_sma21  2019-12-28 - 2020-02-26    -0.148762  \n",
       "595481  diff_ratio_sma21  2019-12-29 - 2020-02-27     0.023361  \n",
       "595482  diff_ratio_sma21  2019-12-30 - 2020-02-28     0.015957  \n",
       "595483  diff_ratio_sma21  2019-12-31 - 2020-02-29     0.125860  \n",
       "595484  diff_ratio_sma21  2020-01-01 - 2020-03-01     0.415183  \n",
       "\n",
       "[595485 rows x 7 columns]"
      ]
     },
     "execution_count": 18,
     "metadata": {},
     "output_type": "execute_result"
    }
   ],
   "source": [
    "data = pd.DataFrame.from_dict(data_dict, \"index\")\n",
    "data"
   ]
  },
  {
   "cell_type": "code",
   "execution_count": 19,
   "metadata": {},
   "outputs": [],
   "source": [
    "file_name = 'generated_correlations_data/'+um+'/'\n",
    "file_name += ak+'_'+exchange+'.csv'"
   ]
  },
  {
   "cell_type": "code",
   "execution_count": 20,
   "metadata": {},
   "outputs": [
    {
     "data": {
      "text/plain": [
       "'generated_correlations_data/trends/Coinbase_btc-usd.csv'"
      ]
     },
     "execution_count": 20,
     "metadata": {},
     "output_type": "execute_result"
    }
   ],
   "source": [
    "file_name"
   ]
  },
  {
   "cell_type": "code",
   "execution_count": 21,
   "metadata": {},
   "outputs": [],
   "source": [
    "data.to_csv(file_name,index=False)"
   ]
  },
  {
   "cell_type": "code",
   "execution_count": null,
   "metadata": {},
   "outputs": [],
   "source": []
  }
 ],
 "metadata": {
  "kernelspec": {
   "display_name": "Python 3",
   "language": "python",
   "name": "python3"
  },
  "language_info": {
   "codemirror_mode": {
    "name": "ipython",
    "version": 3
   },
   "file_extension": ".py",
   "mimetype": "text/x-python",
   "name": "python",
   "nbconvert_exporter": "python",
   "pygments_lexer": "ipython3",
   "version": "3.8.3"
  }
 },
 "nbformat": 4,
 "nbformat_minor": 4
}
