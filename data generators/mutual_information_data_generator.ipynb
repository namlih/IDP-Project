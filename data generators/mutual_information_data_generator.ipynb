{
 "cells": [
  {
   "cell_type": "code",
   "execution_count": 1,
   "metadata": {},
   "outputs": [],
   "source": [
    "import pandas as pd\n",
    "from matplotlib import pyplot as plt\n",
    "import seaborn as sns\n",
    "import datetime as dt\n",
    "from sklearn.feature_selection import mutual_info_regression\n",
    "import numpy as np\n",
    "import time"
   ]
  },
  {
   "cell_type": "code",
   "execution_count": 2,
   "metadata": {},
   "outputs": [],
   "source": [
    "start_date = '2016-01-04'\n",
    "end_date = '2020-03-01'"
   ]
  },
  {
   "cell_type": "code",
   "execution_count": 3,
   "metadata": {},
   "outputs": [],
   "source": [
    "exchange = \"btc-usd\" "
   ]
  },
  {
   "cell_type": "code",
   "execution_count": 4,
   "metadata": {},
   "outputs": [],
   "source": [
    "data1 = pd.read_csv(\"generated_price_data/\"+exchange+\"_daily.csv\")"
   ]
  },
  {
   "cell_type": "code",
   "execution_count": 5,
   "metadata": {},
   "outputs": [],
   "source": [
    "um = \"wiki_pageview\" # usermetric: either wiki_pageview or trends \n",
    "ak = \"Bitcoin\" #either article name or a keyword name\n",
    "tu = \"daily\" #time unit"
   ]
  },
  {
   "cell_type": "code",
   "execution_count": 6,
   "metadata": {},
   "outputs": [],
   "source": [
    "data2 = pd.read_csv(\"generated_\"+um+\"_data/\"+ak+\"_\"+tu+\".csv\")"
   ]
  },
  {
   "cell_type": "code",
   "execution_count": 7,
   "metadata": {},
   "outputs": [],
   "source": [
    "## Filter data by dates\n",
    "data1.index = [pd.Timestamp(t) for t in data1['day']]\n",
    "data2.index = [pd.Timestamp(t) for t in data2['day']]\n",
    "\n",
    "\n",
    "d1 = data1[start_date:end_date].copy()\n",
    "d2 = data2[start_date:end_date].copy()"
   ]
  },
  {
   "cell_type": "code",
   "execution_count": 8,
   "metadata": {},
   "outputs": [],
   "source": [
    "d1.drop_duplicates(subset=['day'],keep='first',inplace=True)\n",
    "d2.drop_duplicates(subset=['day'],keep='first',inplace=True)"
   ]
  },
  {
   "cell_type": "code",
   "execution_count": 9,
   "metadata": {},
   "outputs": [
    {
     "name": "stdout",
     "output_type": "stream",
     "text": [
      "(1519, 8)\n",
      "(1519, 17)\n"
     ]
    }
   ],
   "source": [
    "print(d1.shape)\n",
    "print(d2.shape)"
   ]
  },
  {
   "cell_type": "code",
   "execution_count": 14,
   "metadata": {},
   "outputs": [],
   "source": [
    "target = ['close']\n",
    "feature_names = ['pageview','sma10','sma21'] #first element either trend or pageview"
   ]
  },
  {
   "cell_type": "code",
   "execution_count": 15,
   "metadata": {},
   "outputs": [],
   "source": [
    "features_interested = ['log_','log_diff_','diff_ratio_']"
   ]
  },
  {
   "cell_type": "code",
   "execution_count": 16,
   "metadata": {},
   "outputs": [],
   "source": [
    "data_dict = dict()\n",
    "\n",
    "lag = 14 \n",
    "window_size = [14,30,60]\n",
    "i=0"
   ]
  },
  {
   "cell_type": "code",
   "execution_count": 17,
   "metadata": {},
   "outputs": [],
   "source": [
    "st = time.time()\n",
    "for fi in features_interested:\n",
    "    t = [fi+t_ for t_ in target]\n",
    "    fn = [fi+fn_ for fn_ in feature_names]\n",
    "    for col1 in t:\n",
    "        for col2 in fn:\n",
    "            for w in window_size:\n",
    "                for l in range(1,lag+1):\n",
    "                    fs = np.zeros((1,w))\n",
    "                    fs_ = d2.iloc[:-l][col2].values\n",
    "                    \n",
    "                    ts = np.zeros((1))\n",
    "                    ts_ = d1.iloc[w+l:][col1].values\n",
    "                    for s in range(d1.iloc[w+l:].shape[0]):\n",
    "                        if np.isnan(ts_[s:s+1]).any() or np.isnan(fs_[s:s+w]).any():\n",
    "                            continue\n",
    "                        else:\n",
    "                            ts = np.append(ts,ts_[s:s+1],axis=0) \n",
    "                            fs = np.append(fs,[fs_[s:s+w]],axis=0)\n",
    "                    ts = ts[1:]\n",
    "                    fs = fs[1:,:]\n",
    "                    #feature series                    \n",
    "                    #for f in range(fs_.shape[0]-w):\n",
    "                    #    fs = np.append(fs,[fs_[f:f+w]],axis=0)\n",
    "                    #fs = fs[1:,:]\n",
    "                    try:\n",
    "                        mi = mutual_info_regression(fs,ts).sum()\n",
    "                    except:\n",
    "                        mi = np.nan\n",
    "\n",
    "                    data_dict[i] = {\"window_size\":w,\n",
    "                                    \"lag\":l,\n",
    "                                    \"feature_1\":col1,\n",
    "                                    \"feature_2\":col2,\n",
    "                                    \"mutual_info\":mi}\n",
    "\n",
    "                    i += 1\n",
    "ft = time.time()"
   ]
  },
  {
   "cell_type": "code",
   "execution_count": 18,
   "metadata": {},
   "outputs": [
    {
     "data": {
      "text/plain": [
       "204.90998101234436"
      ]
     },
     "execution_count": 18,
     "metadata": {},
     "output_type": "execute_result"
    }
   ],
   "source": [
    "ft-st"
   ]
  },
  {
   "cell_type": "code",
   "execution_count": 19,
   "metadata": {},
   "outputs": [
    {
     "data": {
      "text/html": [
       "<div>\n",
       "<style scoped>\n",
       "    .dataframe tbody tr th:only-of-type {\n",
       "        vertical-align: middle;\n",
       "    }\n",
       "\n",
       "    .dataframe tbody tr th {\n",
       "        vertical-align: top;\n",
       "    }\n",
       "\n",
       "    .dataframe thead th {\n",
       "        text-align: right;\n",
       "    }\n",
       "</style>\n",
       "<table border=\"1\" class=\"dataframe\">\n",
       "  <thead>\n",
       "    <tr style=\"text-align: right;\">\n",
       "      <th></th>\n",
       "      <th>window_size</th>\n",
       "      <th>lag</th>\n",
       "      <th>feature_1</th>\n",
       "      <th>feature_2</th>\n",
       "      <th>mutual_info</th>\n",
       "    </tr>\n",
       "  </thead>\n",
       "  <tbody>\n",
       "    <tr>\n",
       "      <th>0</th>\n",
       "      <td>14</td>\n",
       "      <td>1</td>\n",
       "      <td>log_close</td>\n",
       "      <td>log_pageview</td>\n",
       "      <td>8.030443</td>\n",
       "    </tr>\n",
       "    <tr>\n",
       "      <th>1</th>\n",
       "      <td>14</td>\n",
       "      <td>2</td>\n",
       "      <td>log_close</td>\n",
       "      <td>log_pageview</td>\n",
       "      <td>7.966397</td>\n",
       "    </tr>\n",
       "    <tr>\n",
       "      <th>2</th>\n",
       "      <td>14</td>\n",
       "      <td>3</td>\n",
       "      <td>log_close</td>\n",
       "      <td>log_pageview</td>\n",
       "      <td>7.953771</td>\n",
       "    </tr>\n",
       "    <tr>\n",
       "      <th>3</th>\n",
       "      <td>14</td>\n",
       "      <td>4</td>\n",
       "      <td>log_close</td>\n",
       "      <td>log_pageview</td>\n",
       "      <td>7.948264</td>\n",
       "    </tr>\n",
       "    <tr>\n",
       "      <th>4</th>\n",
       "      <td>14</td>\n",
       "      <td>5</td>\n",
       "      <td>log_close</td>\n",
       "      <td>log_pageview</td>\n",
       "      <td>7.948475</td>\n",
       "    </tr>\n",
       "    <tr>\n",
       "      <th>...</th>\n",
       "      <td>...</td>\n",
       "      <td>...</td>\n",
       "      <td>...</td>\n",
       "      <td>...</td>\n",
       "      <td>...</td>\n",
       "    </tr>\n",
       "    <tr>\n",
       "      <th>373</th>\n",
       "      <td>60</td>\n",
       "      <td>10</td>\n",
       "      <td>diff_ratio_close</td>\n",
       "      <td>diff_ratio_sma21</td>\n",
       "      <td>0.655282</td>\n",
       "    </tr>\n",
       "    <tr>\n",
       "      <th>374</th>\n",
       "      <td>60</td>\n",
       "      <td>11</td>\n",
       "      <td>diff_ratio_close</td>\n",
       "      <td>diff_ratio_sma21</td>\n",
       "      <td>0.649434</td>\n",
       "    </tr>\n",
       "    <tr>\n",
       "      <th>375</th>\n",
       "      <td>60</td>\n",
       "      <td>12</td>\n",
       "      <td>diff_ratio_close</td>\n",
       "      <td>diff_ratio_sma21</td>\n",
       "      <td>0.648863</td>\n",
       "    </tr>\n",
       "    <tr>\n",
       "      <th>376</th>\n",
       "      <td>60</td>\n",
       "      <td>13</td>\n",
       "      <td>diff_ratio_close</td>\n",
       "      <td>diff_ratio_sma21</td>\n",
       "      <td>0.629308</td>\n",
       "    </tr>\n",
       "    <tr>\n",
       "      <th>377</th>\n",
       "      <td>60</td>\n",
       "      <td>14</td>\n",
       "      <td>diff_ratio_close</td>\n",
       "      <td>diff_ratio_sma21</td>\n",
       "      <td>0.630478</td>\n",
       "    </tr>\n",
       "  </tbody>\n",
       "</table>\n",
       "<p>378 rows × 5 columns</p>\n",
       "</div>"
      ],
      "text/plain": [
       "     window_size  lag         feature_1         feature_2  mutual_info\n",
       "0             14    1         log_close      log_pageview     8.030443\n",
       "1             14    2         log_close      log_pageview     7.966397\n",
       "2             14    3         log_close      log_pageview     7.953771\n",
       "3             14    4         log_close      log_pageview     7.948264\n",
       "4             14    5         log_close      log_pageview     7.948475\n",
       "..           ...  ...               ...               ...          ...\n",
       "373           60   10  diff_ratio_close  diff_ratio_sma21     0.655282\n",
       "374           60   11  diff_ratio_close  diff_ratio_sma21     0.649434\n",
       "375           60   12  diff_ratio_close  diff_ratio_sma21     0.648863\n",
       "376           60   13  diff_ratio_close  diff_ratio_sma21     0.629308\n",
       "377           60   14  diff_ratio_close  diff_ratio_sma21     0.630478\n",
       "\n",
       "[378 rows x 5 columns]"
      ]
     },
     "execution_count": 19,
     "metadata": {},
     "output_type": "execute_result"
    }
   ],
   "source": [
    "data = pd.DataFrame.from_dict(data_dict, \"index\")\n",
    "data"
   ]
  },
  {
   "cell_type": "code",
   "execution_count": 20,
   "metadata": {},
   "outputs": [
    {
     "data": {
      "text/plain": [
       "(378,)"
      ]
     },
     "execution_count": 20,
     "metadata": {},
     "output_type": "execute_result"
    }
   ],
   "source": [
    "data['mutual_info'].dropna().shape"
   ]
  },
  {
   "cell_type": "code",
   "execution_count": 21,
   "metadata": {},
   "outputs": [],
   "source": [
    "file_name = 'generated_mutual_info_data/'+um+'/'\n",
    "file_name += ak+'_'+exchange+'.csv'"
   ]
  },
  {
   "cell_type": "code",
   "execution_count": 22,
   "metadata": {},
   "outputs": [
    {
     "data": {
      "text/plain": [
       "'generated_mutual_info_data/wiki_pageview/Bitcoin_btc-usd.csv'"
      ]
     },
     "execution_count": 22,
     "metadata": {},
     "output_type": "execute_result"
    }
   ],
   "source": [
    "file_name"
   ]
  },
  {
   "cell_type": "code",
   "execution_count": 23,
   "metadata": {},
   "outputs": [],
   "source": [
    "data.to_csv(file_name,index=False)"
   ]
  },
  {
   "cell_type": "code",
   "execution_count": null,
   "metadata": {},
   "outputs": [],
   "source": []
  }
 ],
 "metadata": {
  "kernelspec": {
   "display_name": "Python 3",
   "language": "python",
   "name": "python3"
  },
  "language_info": {
   "codemirror_mode": {
    "name": "ipython",
    "version": 3
   },
   "file_extension": ".py",
   "mimetype": "text/x-python",
   "name": "python",
   "nbconvert_exporter": "python",
   "pygments_lexer": "ipython3",
   "version": "3.8.3"
  }
 },
 "nbformat": 4,
 "nbformat_minor": 4
}
