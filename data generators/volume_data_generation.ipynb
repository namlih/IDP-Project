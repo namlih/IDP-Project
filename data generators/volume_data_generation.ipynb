{
 "cells": [
  {
   "cell_type": "code",
   "execution_count": 1,
   "metadata": {},
   "outputs": [],
   "source": [
    "import pandas as pd\n",
    "import numpy as np"
   ]
  },
  {
   "cell_type": "code",
   "execution_count": 2,
   "metadata": {},
   "outputs": [],
   "source": [
    "from os import listdir\n",
    "from os.path import isfile, join\n",
    "\n",
    "path = \"../price data/iDhP/\"\n",
    "files = [f for f in listdir(path) if isfile(join(path, f))]"
   ]
  },
  {
   "cell_type": "code",
   "execution_count": 3,
   "metadata": {},
   "outputs": [
    {
     "data": {
      "text/plain": [
       "['candles_bch-usd_1h.csv',\n",
       " 'candles_eos-usd_1h.csv',\n",
       " 'candles_neo-usd_1h.csv',\n",
       " 'candles_etc-usd_1h.csv',\n",
       " 'candles_btc-usd_1h.csv',\n",
       " 'candles_link-usd_1h.csv',\n",
       " 'candles_eth-usd_1h.csv',\n",
       " 'candles_ada-usd_1h.csv',\n",
       " 'candles_trx-usd_1h.csv',\n",
       " 'candles_atom-usd_1h.csv',\n",
       " 'candles_xmr-usd_1h.csv',\n",
       " 'candles_zec-usd_1h.csv',\n",
       " 'candles_xlm-usd_1h.csv',\n",
       " 'candles_xtz-usd_1h.csv',\n",
       " 'candles_xrp-usd_1h.csv',\n",
       " 'candles_ltc-usd_1h.csv']"
      ]
     },
     "execution_count": 3,
     "metadata": {},
     "output_type": "execute_result"
    }
   ],
   "source": [
    "files"
   ]
  },
  {
   "cell_type": "code",
   "execution_count": 7,
   "metadata": {},
   "outputs": [
    {
     "name": "stderr",
     "output_type": "stream",
     "text": [
      "/opt/anaconda3/lib/python3.8/site-packages/pandas/core/series.py:679: RuntimeWarning: divide by zero encountered in log\n",
      "  result = getattr(ufunc, method)(*inputs, **kwargs)\n",
      "/opt/anaconda3/lib/python3.8/site-packages/pandas/core/algorithms.py:1926: RuntimeWarning: invalid value encountered in subtract\n",
      "  out_arr[res_indexer] = arr[res_indexer] - arr[lag_indexer]\n"
     ]
    }
   ],
   "source": [
    "volume_col = 'volume_quote'\n",
    "\n",
    "feature_names = [volume_col]\n",
    "\n",
    "for file in files:\n",
    "    data = pd.DataFrame()\n",
    "\n",
    "    #read data\n",
    "    file_path = path+file\n",
    "    d = pd.read_csv(file_path)\n",
    "    d['timestamp'] = [pd.Timestamp(t) for t in d['timestamp']]\n",
    "    \n",
    "    #daily average\n",
    "    d['day'] = [ts.strftime('%Y-%m-%d') for ts in d['timestamp'].to_list()]\n",
    "    d = d.groupby(by=['day']).mean()\n",
    "    d.index = [pd.Timestamp(ts) for ts in d.index.to_list()]\n",
    "    d['day'] = d.index\n",
    "    d['market'] = file[8:15]\n",
    "    \n",
    "    x = d[['market','day',volume_col]].copy()\n",
    "    \n",
    "    #generate sma of price\n",
    "    #x[feature_names[1]] = x.rolling(window=int(feature_names[1][-2:]))['close'].mean()\n",
    "    #x[feature_names[2]] = x.rolling(window=int(feature_names[2][-2:]))['close'].mean()\n",
    "    \n",
    "    for feature in feature_names:\n",
    "        x['log_'+feature] = np.log(x[feature])\n",
    "        x['diff_'+feature] = x[feature].diff()\n",
    "        x['log_diff_'+feature] = x['log_'+feature].diff()\n",
    "        x['diff_ratio_'+feature] = (x['diff_'+feature]/x[feature])*100\n",
    "    \n",
    "    data = pd.concat([data,x],ignore_index=True)\n",
    "    data.to_csv(\"generated_volume_data/\"+file[8:15]+\"_daily.csv\")"
   ]
  },
  {
   "cell_type": "code",
   "execution_count": null,
   "metadata": {},
   "outputs": [],
   "source": []
  }
 ],
 "metadata": {
  "kernelspec": {
   "display_name": "Python 3",
   "language": "python",
   "name": "python3"
  },
  "language_info": {
   "codemirror_mode": {
    "name": "ipython",
    "version": 3
   },
   "file_extension": ".py",
   "mimetype": "text/x-python",
   "name": "python",
   "nbconvert_exporter": "python",
   "pygments_lexer": "ipython3",
   "version": "3.8.3"
  }
 },
 "nbformat": 4,
 "nbformat_minor": 4
}
