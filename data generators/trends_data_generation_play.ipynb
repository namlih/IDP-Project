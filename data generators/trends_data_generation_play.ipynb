{
 "cells": [
  {
   "cell_type": "code",
   "execution_count": 1,
   "metadata": {},
   "outputs": [],
   "source": [
    "import pandas as pd\n",
    "import numpy as np"
   ]
  },
  {
   "cell_type": "code",
   "execution_count": 2,
   "metadata": {},
   "outputs": [],
   "source": [
    "from os import listdir\n",
    "from os.path import isfile, join\n",
    "\n",
    "path = \"../data connectors/google trends/normalized_data/\"\n",
    "files = [f for f in listdir(path) if isfile(join(path, f))]"
   ]
  },
  {
   "cell_type": "code",
   "execution_count": 3,
   "metadata": {},
   "outputs": [
    {
     "data": {
      "text/plain": [
       "['normalized_bitcoin_2016-01-04-2020-03-02.csv',\n",
       " 'normalized_Bitfinex_2016-01-04-2020-03-02.csv',\n",
       " 'normalized_Binance_2016-01-04-2020-03-02.csv',\n",
       " 'normalized_Coinbase_2016-01-04-2020-03-02.csv',\n",
       " 'normalized_Ethereum_2016-01-04-2020-03-02.csv']"
      ]
     },
     "execution_count": 3,
     "metadata": {},
     "output_type": "execute_result"
    }
   ],
   "source": [
    "files"
   ]
  },
  {
   "cell_type": "code",
   "execution_count": 5,
   "metadata": {},
   "outputs": [],
   "source": [
    "file_path = path+files[0]\n",
    "d = pd.read_csv(file_path)"
   ]
  },
  {
   "cell_type": "code",
   "execution_count": 7,
   "metadata": {},
   "outputs": [],
   "source": [
    "d['date'] = [pd.Timestamp(t) for t in d['date']]"
   ]
  },
  {
   "cell_type": "code",
   "execution_count": 9,
   "metadata": {},
   "outputs": [
    {
     "data": {
      "text/html": [
       "<div>\n",
       "<style scoped>\n",
       "    .dataframe tbody tr th:only-of-type {\n",
       "        vertical-align: middle;\n",
       "    }\n",
       "\n",
       "    .dataframe tbody tr th {\n",
       "        vertical-align: top;\n",
       "    }\n",
       "\n",
       "    .dataframe thead th {\n",
       "        text-align: right;\n",
       "    }\n",
       "</style>\n",
       "<table border=\"1\" class=\"dataframe\">\n",
       "  <thead>\n",
       "    <tr style=\"text-align: right;\">\n",
       "      <th></th>\n",
       "      <th>date</th>\n",
       "      <th>value</th>\n",
       "      <th>isPartial</th>\n",
       "      <th>interval</th>\n",
       "      <th>keyword</th>\n",
       "      <th>normalized_value</th>\n",
       "    </tr>\n",
       "  </thead>\n",
       "  <tbody>\n",
       "    <tr>\n",
       "      <th>0</th>\n",
       "      <td>2016-01-04 00:00:00</td>\n",
       "      <td>63</td>\n",
       "      <td>False</td>\n",
       "      <td>2016-01-04 -&gt; 2016-01-11</td>\n",
       "      <td>bitcoin</td>\n",
       "      <td>1.635509</td>\n",
       "    </tr>\n",
       "    <tr>\n",
       "      <th>1</th>\n",
       "      <td>2016-01-04 01:00:00</td>\n",
       "      <td>62</td>\n",
       "      <td>False</td>\n",
       "      <td>2016-01-04 -&gt; 2016-01-11</td>\n",
       "      <td>bitcoin</td>\n",
       "      <td>1.609549</td>\n",
       "    </tr>\n",
       "    <tr>\n",
       "      <th>2</th>\n",
       "      <td>2016-01-04 02:00:00</td>\n",
       "      <td>60</td>\n",
       "      <td>False</td>\n",
       "      <td>2016-01-04 -&gt; 2016-01-11</td>\n",
       "      <td>bitcoin</td>\n",
       "      <td>1.557628</td>\n",
       "    </tr>\n",
       "    <tr>\n",
       "      <th>3</th>\n",
       "      <td>2016-01-04 03:00:00</td>\n",
       "      <td>62</td>\n",
       "      <td>False</td>\n",
       "      <td>2016-01-04 -&gt; 2016-01-11</td>\n",
       "      <td>bitcoin</td>\n",
       "      <td>1.609549</td>\n",
       "    </tr>\n",
       "    <tr>\n",
       "      <th>4</th>\n",
       "      <td>2016-01-04 04:00:00</td>\n",
       "      <td>66</td>\n",
       "      <td>False</td>\n",
       "      <td>2016-01-04 -&gt; 2016-01-11</td>\n",
       "      <td>bitcoin</td>\n",
       "      <td>1.713391</td>\n",
       "    </tr>\n",
       "    <tr>\n",
       "      <th>...</th>\n",
       "      <td>...</td>\n",
       "      <td>...</td>\n",
       "      <td>...</td>\n",
       "      <td>...</td>\n",
       "      <td>...</td>\n",
       "      <td>...</td>\n",
       "    </tr>\n",
       "    <tr>\n",
       "      <th>36668</th>\n",
       "      <td>2020-03-01 20:00:00</td>\n",
       "      <td>0</td>\n",
       "      <td>False</td>\n",
       "      <td>2020-02-24 -&gt; 2020-03-02</td>\n",
       "      <td>bitcoin</td>\n",
       "      <td>0.000000</td>\n",
       "    </tr>\n",
       "    <tr>\n",
       "      <th>36669</th>\n",
       "      <td>2020-03-01 21:00:00</td>\n",
       "      <td>0</td>\n",
       "      <td>False</td>\n",
       "      <td>2020-02-24 -&gt; 2020-03-02</td>\n",
       "      <td>bitcoin</td>\n",
       "      <td>0.000000</td>\n",
       "    </tr>\n",
       "    <tr>\n",
       "      <th>36670</th>\n",
       "      <td>2020-03-01 22:00:00</td>\n",
       "      <td>0</td>\n",
       "      <td>False</td>\n",
       "      <td>2020-02-24 -&gt; 2020-03-02</td>\n",
       "      <td>bitcoin</td>\n",
       "      <td>0.000000</td>\n",
       "    </tr>\n",
       "    <tr>\n",
       "      <th>36671</th>\n",
       "      <td>2020-03-01 23:00:00</td>\n",
       "      <td>0</td>\n",
       "      <td>False</td>\n",
       "      <td>2020-02-24 -&gt; 2020-03-02</td>\n",
       "      <td>bitcoin</td>\n",
       "      <td>0.000000</td>\n",
       "    </tr>\n",
       "    <tr>\n",
       "      <th>36672</th>\n",
       "      <td>2020-03-02 00:00:00</td>\n",
       "      <td>0</td>\n",
       "      <td>False</td>\n",
       "      <td>2020-02-24 -&gt; 2020-03-02</td>\n",
       "      <td>bitcoin</td>\n",
       "      <td>0.000000</td>\n",
       "    </tr>\n",
       "  </tbody>\n",
       "</table>\n",
       "<p>36673 rows × 6 columns</p>\n",
       "</div>"
      ],
      "text/plain": [
       "                     date  value  isPartial                  interval  \\\n",
       "0     2016-01-04 00:00:00     63      False  2016-01-04 -> 2016-01-11   \n",
       "1     2016-01-04 01:00:00     62      False  2016-01-04 -> 2016-01-11   \n",
       "2     2016-01-04 02:00:00     60      False  2016-01-04 -> 2016-01-11   \n",
       "3     2016-01-04 03:00:00     62      False  2016-01-04 -> 2016-01-11   \n",
       "4     2016-01-04 04:00:00     66      False  2016-01-04 -> 2016-01-11   \n",
       "...                   ...    ...        ...                       ...   \n",
       "36668 2020-03-01 20:00:00      0      False  2020-02-24 -> 2020-03-02   \n",
       "36669 2020-03-01 21:00:00      0      False  2020-02-24 -> 2020-03-02   \n",
       "36670 2020-03-01 22:00:00      0      False  2020-02-24 -> 2020-03-02   \n",
       "36671 2020-03-01 23:00:00      0      False  2020-02-24 -> 2020-03-02   \n",
       "36672 2020-03-02 00:00:00      0      False  2020-02-24 -> 2020-03-02   \n",
       "\n",
       "       keyword  normalized_value  \n",
       "0      bitcoin          1.635509  \n",
       "1      bitcoin          1.609549  \n",
       "2      bitcoin          1.557628  \n",
       "3      bitcoin          1.609549  \n",
       "4      bitcoin          1.713391  \n",
       "...        ...               ...  \n",
       "36668  bitcoin          0.000000  \n",
       "36669  bitcoin          0.000000  \n",
       "36670  bitcoin          0.000000  \n",
       "36671  bitcoin          0.000000  \n",
       "36672  bitcoin          0.000000  \n",
       "\n",
       "[36673 rows x 6 columns]"
      ]
     },
     "execution_count": 9,
     "metadata": {},
     "output_type": "execute_result"
    }
   ],
   "source": [
    "d"
   ]
  },
  {
   "cell_type": "code",
   "execution_count": null,
   "metadata": {},
   "outputs": [],
   "source": []
  }
 ],
 "metadata": {
  "kernelspec": {
   "display_name": "Python 3",
   "language": "python",
   "name": "python3"
  },
  "language_info": {
   "codemirror_mode": {
    "name": "ipython",
    "version": 3
   },
   "file_extension": ".py",
   "mimetype": "text/x-python",
   "name": "python",
   "nbconvert_exporter": "python",
   "pygments_lexer": "ipython3",
   "version": "3.8.3"
  }
 },
 "nbformat": 4,
 "nbformat_minor": 4
}
