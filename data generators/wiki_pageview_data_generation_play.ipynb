{
 "cells": [
  {
   "cell_type": "code",
   "execution_count": 1,
   "metadata": {},
   "outputs": [],
   "source": [
    "import pandas as pd\n",
    "import numpy as np"
   ]
  },
  {
   "cell_type": "code",
   "execution_count": 2,
   "metadata": {},
   "outputs": [],
   "source": [
    "from os import listdir\n",
    "from os.path import isfile, join\n",
    "\n",
    "path = \"../data connectors/wikipedia/\"\n",
    "files = [f for f in listdir(path) if isfile(join(path, f))]"
   ]
  },
  {
   "cell_type": "code",
   "execution_count": 3,
   "metadata": {},
   "outputs": [
    {
     "data": {
      "text/plain": [
       "['.DS_Store',\n",
       " 'articles_metrics.json',\n",
       " 'data.csv',\n",
       " 'README.md',\n",
       " 'WikiAPIConnector.py']"
      ]
     },
     "execution_count": 3,
     "metadata": {},
     "output_type": "execute_result"
    }
   ],
   "source": [
    "files"
   ]
  },
  {
   "cell_type": "code",
   "execution_count": 4,
   "metadata": {},
   "outputs": [],
   "source": [
    "file_path = path+'data.csv'\n",
    "d = pd.read_csv(file_path)"
   ]
  },
  {
   "cell_type": "code",
   "execution_count": 5,
   "metadata": {},
   "outputs": [],
   "source": [
    "d['timestamp'] = d['timestamp'].astype('str')\n",
    "d['timestamp'] = [pd.Timestamp(year=int(t[:4]),month=int(t[4:6]),day=int(t[6:8])) for t in d['timestamp'].to_list()]"
   ]
  },
  {
   "cell_type": "code",
   "execution_count": 53,
   "metadata": {},
   "outputs": [],
   "source": [
    "views_col = 'pageview'\n",
    "\n",
    "feature_names = [views_col,'sma10','sma21']\n",
    "\n",
    "for article in d['article'].unique()[:1]:\n",
    "    data = pd.DataFrame()\n",
    "    \n",
    "    d_ = d[d['article'] == article].copy()\n",
    "    d_['day'] = [pd.Timestamp(t) for t in d_['timestamp']]\n",
    "    d_.rename(columns={'views':'pageview'},inplace=True)\n",
    "\n",
    "    x = d_[['article','day',views_col]].copy()\n",
    "\n",
    "    #generate sma of view\n",
    "    for f in feature_names[1:]:\n",
    "        x[f] = x.rolling(window=int(f[-2:]))['pageview'].mean()\n",
    "\n",
    "    for feature in feature_names:\n",
    "        x['log_'+feature] = np.log(x[feature])\n",
    "        x['diff_'+feature] = x[feature].diff()\n",
    "        x['log_diff_'+feature] = x['log_'+feature].diff()\n",
    "        x['diff_ratio_'+feature] = (x['diff_'+feature]/x[feature])*100\n",
    "\n",
    "    data = pd.concat([data,x],ignore_index=True)\n",
    "    #data.to_csv(\"generated_wiki_pageview_data/\"+article+\"_daily.csv\",index=False)"
   ]
  },
  {
   "cell_type": "code",
   "execution_count": 54,
   "metadata": {},
   "outputs": [
    {
     "data": {
      "text/html": [
       "<div>\n",
       "<style scoped>\n",
       "    .dataframe tbody tr th:only-of-type {\n",
       "        vertical-align: middle;\n",
       "    }\n",
       "\n",
       "    .dataframe tbody tr th {\n",
       "        vertical-align: top;\n",
       "    }\n",
       "\n",
       "    .dataframe thead th {\n",
       "        text-align: right;\n",
       "    }\n",
       "</style>\n",
       "<table border=\"1\" class=\"dataframe\">\n",
       "  <thead>\n",
       "    <tr style=\"text-align: right;\">\n",
       "      <th></th>\n",
       "      <th>article</th>\n",
       "      <th>day</th>\n",
       "      <th>pageview</th>\n",
       "      <th>sma10</th>\n",
       "      <th>sma21</th>\n",
       "      <th>log_pageview</th>\n",
       "      <th>diff_pageview</th>\n",
       "      <th>log_diff_pageview</th>\n",
       "      <th>diff_ratio_pageview</th>\n",
       "      <th>log_sma10</th>\n",
       "      <th>diff_sma10</th>\n",
       "      <th>log_diff_sma10</th>\n",
       "      <th>diff_ratio_sma10</th>\n",
       "      <th>log_sma21</th>\n",
       "      <th>diff_sma21</th>\n",
       "      <th>log_diff_sma21</th>\n",
       "      <th>diff_ratio_sma21</th>\n",
       "    </tr>\n",
       "  </thead>\n",
       "  <tbody>\n",
       "    <tr>\n",
       "      <th>0</th>\n",
       "      <td>Bitcoin</td>\n",
       "      <td>2015-07-01</td>\n",
       "      <td>13137</td>\n",
       "      <td>NaN</td>\n",
       "      <td>NaN</td>\n",
       "      <td>9.483188</td>\n",
       "      <td>NaN</td>\n",
       "      <td>NaN</td>\n",
       "      <td>NaN</td>\n",
       "      <td>NaN</td>\n",
       "      <td>NaN</td>\n",
       "      <td>NaN</td>\n",
       "      <td>NaN</td>\n",
       "      <td>NaN</td>\n",
       "      <td>NaN</td>\n",
       "      <td>NaN</td>\n",
       "      <td>NaN</td>\n",
       "    </tr>\n",
       "    <tr>\n",
       "      <th>1</th>\n",
       "      <td>Bitcoin</td>\n",
       "      <td>2015-07-02</td>\n",
       "      <td>9938</td>\n",
       "      <td>NaN</td>\n",
       "      <td>NaN</td>\n",
       "      <td>9.204121</td>\n",
       "      <td>-3199.0</td>\n",
       "      <td>-0.279067</td>\n",
       "      <td>-32.189575</td>\n",
       "      <td>NaN</td>\n",
       "      <td>NaN</td>\n",
       "      <td>NaN</td>\n",
       "      <td>NaN</td>\n",
       "      <td>NaN</td>\n",
       "      <td>NaN</td>\n",
       "      <td>NaN</td>\n",
       "      <td>NaN</td>\n",
       "    </tr>\n",
       "    <tr>\n",
       "      <th>2</th>\n",
       "      <td>Bitcoin</td>\n",
       "      <td>2015-07-03</td>\n",
       "      <td>8498</td>\n",
       "      <td>NaN</td>\n",
       "      <td>NaN</td>\n",
       "      <td>9.047586</td>\n",
       "      <td>-1440.0</td>\n",
       "      <td>-0.156535</td>\n",
       "      <td>-16.945164</td>\n",
       "      <td>NaN</td>\n",
       "      <td>NaN</td>\n",
       "      <td>NaN</td>\n",
       "      <td>NaN</td>\n",
       "      <td>NaN</td>\n",
       "      <td>NaN</td>\n",
       "      <td>NaN</td>\n",
       "      <td>NaN</td>\n",
       "    </tr>\n",
       "    <tr>\n",
       "      <th>3</th>\n",
       "      <td>Bitcoin</td>\n",
       "      <td>2015-07-04</td>\n",
       "      <td>9113</td>\n",
       "      <td>NaN</td>\n",
       "      <td>NaN</td>\n",
       "      <td>9.117457</td>\n",
       "      <td>615.0</td>\n",
       "      <td>0.069871</td>\n",
       "      <td>6.748601</td>\n",
       "      <td>NaN</td>\n",
       "      <td>NaN</td>\n",
       "      <td>NaN</td>\n",
       "      <td>NaN</td>\n",
       "      <td>NaN</td>\n",
       "      <td>NaN</td>\n",
       "      <td>NaN</td>\n",
       "      <td>NaN</td>\n",
       "    </tr>\n",
       "    <tr>\n",
       "      <th>4</th>\n",
       "      <td>Bitcoin</td>\n",
       "      <td>2015-07-05</td>\n",
       "      <td>8908</td>\n",
       "      <td>NaN</td>\n",
       "      <td>NaN</td>\n",
       "      <td>9.094705</td>\n",
       "      <td>-205.0</td>\n",
       "      <td>-0.022752</td>\n",
       "      <td>-2.301302</td>\n",
       "      <td>NaN</td>\n",
       "      <td>NaN</td>\n",
       "      <td>NaN</td>\n",
       "      <td>NaN</td>\n",
       "      <td>NaN</td>\n",
       "      <td>NaN</td>\n",
       "      <td>NaN</td>\n",
       "      <td>NaN</td>\n",
       "    </tr>\n",
       "    <tr>\n",
       "      <th>...</th>\n",
       "      <td>...</td>\n",
       "      <td>...</td>\n",
       "      <td>...</td>\n",
       "      <td>...</td>\n",
       "      <td>...</td>\n",
       "      <td>...</td>\n",
       "      <td>...</td>\n",
       "      <td>...</td>\n",
       "      <td>...</td>\n",
       "      <td>...</td>\n",
       "      <td>...</td>\n",
       "      <td>...</td>\n",
       "      <td>...</td>\n",
       "      <td>...</td>\n",
       "      <td>...</td>\n",
       "      <td>...</td>\n",
       "      <td>...</td>\n",
       "    </tr>\n",
       "    <tr>\n",
       "      <th>1887</th>\n",
       "      <td>Bitcoin</td>\n",
       "      <td>2020-08-30</td>\n",
       "      <td>6355</td>\n",
       "      <td>10353.2</td>\n",
       "      <td>11695.000000</td>\n",
       "      <td>8.756997</td>\n",
       "      <td>-357.0</td>\n",
       "      <td>-0.054655</td>\n",
       "      <td>-5.617624</td>\n",
       "      <td>9.245051</td>\n",
       "      <td>-334.0</td>\n",
       "      <td>-0.031751</td>\n",
       "      <td>-3.226056</td>\n",
       "      <td>9.366917</td>\n",
       "      <td>-251.238095</td>\n",
       "      <td>-0.021255</td>\n",
       "      <td>-2.148252</td>\n",
       "    </tr>\n",
       "    <tr>\n",
       "      <th>1888</th>\n",
       "      <td>Bitcoin</td>\n",
       "      <td>2020-08-31</td>\n",
       "      <td>14344</td>\n",
       "      <td>10236.2</td>\n",
       "      <td>11686.714286</td>\n",
       "      <td>9.571087</td>\n",
       "      <td>7989.0</td>\n",
       "      <td>0.814090</td>\n",
       "      <td>55.695761</td>\n",
       "      <td>9.233686</td>\n",
       "      <td>-117.0</td>\n",
       "      <td>-0.011365</td>\n",
       "      <td>-1.143002</td>\n",
       "      <td>9.366208</td>\n",
       "      <td>-8.285714</td>\n",
       "      <td>-0.000709</td>\n",
       "      <td>-0.070899</td>\n",
       "    </tr>\n",
       "    <tr>\n",
       "      <th>1889</th>\n",
       "      <td>Bitcoin</td>\n",
       "      <td>2020-09-01</td>\n",
       "      <td>7559</td>\n",
       "      <td>10215.8</td>\n",
       "      <td>11140.952381</td>\n",
       "      <td>8.930494</td>\n",
       "      <td>-6785.0</td>\n",
       "      <td>-0.640593</td>\n",
       "      <td>-89.760550</td>\n",
       "      <td>9.231691</td>\n",
       "      <td>-20.4</td>\n",
       "      <td>-0.001995</td>\n",
       "      <td>-0.199691</td>\n",
       "      <td>9.318383</td>\n",
       "      <td>-545.761905</td>\n",
       "      <td>-0.047825</td>\n",
       "      <td>-4.898701</td>\n",
       "    </tr>\n",
       "    <tr>\n",
       "      <th>1890</th>\n",
       "      <td>Bitcoin</td>\n",
       "      <td>2020-09-02</td>\n",
       "      <td>8578</td>\n",
       "      <td>9597.1</td>\n",
       "      <td>11174.380952</td>\n",
       "      <td>9.056956</td>\n",
       "      <td>1019.0</td>\n",
       "      <td>0.126462</td>\n",
       "      <td>11.879226</td>\n",
       "      <td>9.169216</td>\n",
       "      <td>-618.7</td>\n",
       "      <td>-0.062475</td>\n",
       "      <td>-6.446739</td>\n",
       "      <td>9.321379</td>\n",
       "      <td>33.428571</td>\n",
       "      <td>0.002996</td>\n",
       "      <td>0.299154</td>\n",
       "    </tr>\n",
       "    <tr>\n",
       "      <th>1891</th>\n",
       "      <td>Bitcoin</td>\n",
       "      <td>2020-09-03</td>\n",
       "      <td>8456</td>\n",
       "      <td>9634.4</td>\n",
       "      <td>11058.619048</td>\n",
       "      <td>9.042632</td>\n",
       "      <td>-122.0</td>\n",
       "      <td>-0.014325</td>\n",
       "      <td>-1.442763</td>\n",
       "      <td>9.173095</td>\n",
       "      <td>37.3</td>\n",
       "      <td>0.003879</td>\n",
       "      <td>0.387154</td>\n",
       "      <td>9.310965</td>\n",
       "      <td>-115.761905</td>\n",
       "      <td>-0.010414</td>\n",
       "      <td>-1.046803</td>\n",
       "    </tr>\n",
       "  </tbody>\n",
       "</table>\n",
       "<p>1892 rows × 17 columns</p>\n",
       "</div>"
      ],
      "text/plain": [
       "      article        day  pageview    sma10         sma21  log_pageview  \\\n",
       "0     Bitcoin 2015-07-01     13137      NaN           NaN      9.483188   \n",
       "1     Bitcoin 2015-07-02      9938      NaN           NaN      9.204121   \n",
       "2     Bitcoin 2015-07-03      8498      NaN           NaN      9.047586   \n",
       "3     Bitcoin 2015-07-04      9113      NaN           NaN      9.117457   \n",
       "4     Bitcoin 2015-07-05      8908      NaN           NaN      9.094705   \n",
       "...       ...        ...       ...      ...           ...           ...   \n",
       "1887  Bitcoin 2020-08-30      6355  10353.2  11695.000000      8.756997   \n",
       "1888  Bitcoin 2020-08-31     14344  10236.2  11686.714286      9.571087   \n",
       "1889  Bitcoin 2020-09-01      7559  10215.8  11140.952381      8.930494   \n",
       "1890  Bitcoin 2020-09-02      8578   9597.1  11174.380952      9.056956   \n",
       "1891  Bitcoin 2020-09-03      8456   9634.4  11058.619048      9.042632   \n",
       "\n",
       "      diff_pageview  log_diff_pageview  diff_ratio_pageview  log_sma10  \\\n",
       "0               NaN                NaN                  NaN        NaN   \n",
       "1           -3199.0          -0.279067           -32.189575        NaN   \n",
       "2           -1440.0          -0.156535           -16.945164        NaN   \n",
       "3             615.0           0.069871             6.748601        NaN   \n",
       "4            -205.0          -0.022752            -2.301302        NaN   \n",
       "...             ...                ...                  ...        ...   \n",
       "1887         -357.0          -0.054655            -5.617624   9.245051   \n",
       "1888         7989.0           0.814090            55.695761   9.233686   \n",
       "1889        -6785.0          -0.640593           -89.760550   9.231691   \n",
       "1890         1019.0           0.126462            11.879226   9.169216   \n",
       "1891         -122.0          -0.014325            -1.442763   9.173095   \n",
       "\n",
       "      diff_sma10  log_diff_sma10  diff_ratio_sma10  log_sma21  diff_sma21  \\\n",
       "0            NaN             NaN               NaN        NaN         NaN   \n",
       "1            NaN             NaN               NaN        NaN         NaN   \n",
       "2            NaN             NaN               NaN        NaN         NaN   \n",
       "3            NaN             NaN               NaN        NaN         NaN   \n",
       "4            NaN             NaN               NaN        NaN         NaN   \n",
       "...          ...             ...               ...        ...         ...   \n",
       "1887      -334.0       -0.031751         -3.226056   9.366917 -251.238095   \n",
       "1888      -117.0       -0.011365         -1.143002   9.366208   -8.285714   \n",
       "1889       -20.4       -0.001995         -0.199691   9.318383 -545.761905   \n",
       "1890      -618.7       -0.062475         -6.446739   9.321379   33.428571   \n",
       "1891        37.3        0.003879          0.387154   9.310965 -115.761905   \n",
       "\n",
       "      log_diff_sma21  diff_ratio_sma21  \n",
       "0                NaN               NaN  \n",
       "1                NaN               NaN  \n",
       "2                NaN               NaN  \n",
       "3                NaN               NaN  \n",
       "4                NaN               NaN  \n",
       "...              ...               ...  \n",
       "1887       -0.021255         -2.148252  \n",
       "1888       -0.000709         -0.070899  \n",
       "1889       -0.047825         -4.898701  \n",
       "1890        0.002996          0.299154  \n",
       "1891       -0.010414         -1.046803  \n",
       "\n",
       "[1892 rows x 17 columns]"
      ]
     },
     "execution_count": 54,
     "metadata": {},
     "output_type": "execute_result"
    }
   ],
   "source": [
    "data"
   ]
  },
  {
   "cell_type": "code",
   "execution_count": 55,
   "metadata": {},
   "outputs": [
    {
     "name": "stdout",
     "output_type": "stream",
     "text": [
      "article (1892,) (1892,)\n",
      "day (1892,) (1892,)\n",
      "pageview (1892,) (1892,)\n",
      "sma10 (1892,) (1883,)\n",
      "sma21 (1892,) (1872,)\n",
      "log_pageview (1892,) (1892,)\n",
      "diff_pageview (1892,) (1891,)\n",
      "log_diff_pageview (1892,) (1891,)\n",
      "diff_ratio_pageview (1892,) (1891,)\n",
      "log_sma10 (1892,) (1883,)\n",
      "diff_sma10 (1892,) (1882,)\n",
      "log_diff_sma10 (1892,) (1882,)\n",
      "diff_ratio_sma10 (1892,) (1882,)\n",
      "log_sma21 (1892,) (1872,)\n",
      "diff_sma21 (1892,) (1871,)\n",
      "log_diff_sma21 (1892,) (1871,)\n",
      "diff_ratio_sma21 (1892,) (1871,)\n"
     ]
    }
   ],
   "source": [
    "for c in data.columns:\n",
    "    print(c,data[c].shape,data[c].dropna().shape)\n"
   ]
  },
  {
   "cell_type": "code",
   "execution_count": 46,
   "metadata": {},
   "outputs": [
    {
     "data": {
      "text/plain": [
       "(5649,)"
      ]
     },
     "execution_count": 46,
     "metadata": {},
     "output_type": "execute_result"
    }
   ],
   "source": [
    "data['sma10'].dropna().shape"
   ]
  },
  {
   "cell_type": "code",
   "execution_count": 47,
   "metadata": {},
   "outputs": [
    {
     "data": {
      "text/plain": [
       "(3766,)"
      ]
     },
     "execution_count": 47,
     "metadata": {},
     "output_type": "execute_result"
    }
   ],
   "source": [
    "data['log_sma10'].dropna().shape"
   ]
  },
  {
   "cell_type": "code",
   "execution_count": 48,
   "metadata": {},
   "outputs": [],
   "source": [
    "def apply_func(x):\n",
    "    if np.isnan(np.log(x)):\n",
    "        return 0\n",
    "    else:\n",
    "        return 1\n",
    "data['logsma10_nan'] = data['sma10'].apply(apply_func)"
   ]
  },
  {
   "cell_type": "code",
   "execution_count": 49,
   "metadata": {},
   "outputs": [
    {
     "data": {
      "text/plain": [
       "<matplotlib.axes._subplots.AxesSubplot at 0x7f99afa05f40>"
      ]
     },
     "execution_count": 49,
     "metadata": {},
     "output_type": "execute_result"
    },
    {
     "data": {
      "image/png": "[encoded data removed]",
      "text/plain": [
       "<Figure size 432x288 with 1 Axes>"
      ]
     },
     "metadata": {
      "needs_background": "light"
     },
     "output_type": "display_data"
    }
   ],
   "source": [
    "sns.countplot(data['logsma10_nan'])"
   ]
  },
  {
   "cell_type": "code",
   "execution_count": 50,
   "metadata": {},
   "outputs": [
    {
     "data": {
      "text/plain": [
       "(27, 18)"
      ]
     },
     "execution_count": 50,
     "metadata": {},
     "output_type": "execute_result"
    }
   ],
   "source": [
    "data[data['logsma10_nan'] == 0].shape"
   ]
  },
  {
   "cell_type": "code",
   "execution_count": 52,
   "metadata": {},
   "outputs": [
    {
     "data": {
      "text/plain": [
       "(5649,)"
      ]
     },
     "execution_count": 52,
     "metadata": {},
     "output_type": "execute_result"
    }
   ],
   "source": [
    "np.log(data['sma10']).dropna().shape"
   ]
  },
  {
   "cell_type": "code",
   "execution_count": 56,
   "metadata": {},
   "outputs": [
    {
     "data": {
      "text/plain": [
       "0.0"
      ]
     },
     "execution_count": 56,
     "metadata": {},
     "output_type": "execute_result"
    }
   ],
   "source": [
    "np.log(1)"
   ]
  },
  {
   "cell_type": "code",
   "execution_count": 57,
   "metadata": {},
   "outputs": [
    {
     "name": "stderr",
     "output_type": "stream",
     "text": [
      "<ipython-input-57-f6e7c0610b57>:1: RuntimeWarning: divide by zero encountered in log\n",
      "  np.log(0)\n"
     ]
    },
    {
     "data": {
      "text/plain": [
       "-inf"
      ]
     },
     "execution_count": 57,
     "metadata": {},
     "output_type": "execute_result"
    }
   ],
   "source": [
    "np.log(0)"
   ]
  },
  {
   "cell_type": "code",
   "execution_count": 58,
   "metadata": {},
   "outputs": [
    {
     "name": "stderr",
     "output_type": "stream",
     "text": [
      "<ipython-input-58-0d1208038d97>:1: RuntimeWarning: invalid value encountered in log\n",
      "  np.log(-10)\n"
     ]
    },
    {
     "data": {
      "text/plain": [
       "nan"
      ]
     },
     "execution_count": 58,
     "metadata": {},
     "output_type": "execute_result"
    }
   ],
   "source": [
    "np.log(-10)"
   ]
  },
  {
   "cell_type": "code",
   "execution_count": null,
   "metadata": {},
   "outputs": [],
   "source": []
  }
 ],
 "metadata": {
  "kernelspec": {
   "display_name": "Python 3",
   "language": "python",
   "name": "python3"
  },
  "language_info": {
   "codemirror_mode": {
    "name": "ipython",
    "version": 3
   },
   "file_extension": ".py",
   "mimetype": "text/x-python",
   "name": "python",
   "nbconvert_exporter": "python",
   "pygments_lexer": "ipython3",
   "version": "3.8.3"
  }
 },
 "nbformat": 4,
 "nbformat_minor": 4
}
