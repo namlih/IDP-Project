{
 "cells": [
  {
   "cell_type": "code",
   "execution_count": 1,
   "metadata": {},
   "outputs": [],
   "source": [
    "import pandas as pd\n",
    "from matplotlib import pyplot as plt\n",
    "from sklearn import preprocessing\n",
    "import seaborn as sns\n",
    "import datetime as dt\n",
    "from statsmodels.tsa.stattools import adfuller\n",
    "from statsmodels.tsa.stattools import grangercausalitytests\n",
    "import numpy as np\n",
    "import scipy\n",
    "import time"
   ]
  },
  {
   "cell_type": "code",
   "execution_count": 2,
   "metadata": {},
   "outputs": [],
   "source": [
    "start_date = '2016-01-04'\n",
    "end_date = '2020-03-01'"
   ]
  },
  {
   "cell_type": "code",
   "execution_count": 3,
   "metadata": {},
   "outputs": [],
   "source": [
    "exchange = \"btc-usd\" "
   ]
  },
  {
   "cell_type": "code",
   "execution_count": 4,
   "metadata": {},
   "outputs": [],
   "source": [
    "data1 = pd.read_csv(\"generated_price_data/\"+exchange+\"_daily.csv\")"
   ]
  },
  {
   "cell_type": "code",
   "execution_count": 5,
   "metadata": {},
   "outputs": [],
   "source": [
    "um = \"wiki_pageview\" # usermetric: either wiki_pageview or trends \n",
    "ak = \"Bitcoin\" #either article name or a keyword name\n",
    "tu = \"daily\" #time unit"
   ]
  },
  {
   "cell_type": "code",
   "execution_count": 6,
   "metadata": {},
   "outputs": [],
   "source": [
    "data2 = pd.read_csv(\"generated_\"+um+\"_data/\"+ak+\"_\"+tu+\".csv\")"
   ]
  },
  {
   "cell_type": "code",
   "execution_count": 7,
   "metadata": {},
   "outputs": [],
   "source": [
    "## Filter data by dates\n",
    "data1.index = [pd.Timestamp(t) for t in data1['day']]\n",
    "data2.index = [pd.Timestamp(t) for t in data2['day']]\n",
    "\n",
    "\n",
    "d1 = data1[start_date:end_date].copy()\n",
    "d2 = data2[start_date:end_date].copy()"
   ]
  },
  {
   "cell_type": "code",
   "execution_count": 8,
   "metadata": {},
   "outputs": [],
   "source": [
    "d1.drop_duplicates(subset=['day'],keep='first',inplace=True)\n",
    "d2.drop_duplicates(subset=['day'],keep='first',inplace=True)"
   ]
  },
  {
   "cell_type": "code",
   "execution_count": 9,
   "metadata": {},
   "outputs": [
    {
     "name": "stdout",
     "output_type": "stream",
     "text": [
      "(1519, 8)\n",
      "(1519, 17)\n"
     ]
    }
   ],
   "source": [
    "print(d1.shape)\n",
    "print(d2.shape)"
   ]
  },
  {
   "cell_type": "code",
   "execution_count": 10,
   "metadata": {},
   "outputs": [],
   "source": [
    "feature_names1 = ['close']\n",
    "feature_names2 = ['pageview','sma10','sma21'] #first element either trend or pageview"
   ]
  },
  {
   "cell_type": "code",
   "execution_count": 11,
   "metadata": {},
   "outputs": [],
   "source": [
    "features_interested = ['log_','log_diff_','diff_ratio_']"
   ]
  },
  {
   "cell_type": "code",
   "execution_count": 12,
   "metadata": {},
   "outputs": [],
   "source": [
    "#stationarity test\n",
    "def is_stationary(x):\n",
    "    try:\n",
    "        ts = np.array(x)\n",
    "        ts = ts[~np.isnan(ts)]\n",
    "        result = adfuller(ts)\n",
    "        if result[1] < 0.05:\n",
    "            return True\n",
    "        else:\n",
    "            return False\n",
    "    except:\n",
    "        return False"
   ]
  },
  {
   "cell_type": "code",
   "execution_count": 13,
   "metadata": {},
   "outputs": [],
   "source": [
    "data_dict = dict()\n",
    "\n",
    "max_lag = 15\n",
    "window_size = [120,360,720]\n",
    "i=0\n",
    "\n",
    "chisq_test = 'ssr_chi2test'\n",
    "F_test = 'ssr_ftest'"
   ]
  },
  {
   "cell_type": "code",
   "execution_count": 14,
   "metadata": {},
   "outputs": [],
   "source": [
    "st = time.time()\n",
    "for fi in features_interested:\n",
    "    fn1 = [fi+fn for fn in feature_names1]\n",
    "    fn2 = [fi+fn for fn in feature_names2]\n",
    "    for col1 in fn1:\n",
    "        for col2 in fn2:\n",
    "            for w in window_size:\n",
    "                for t in range(d1.shape[0]-w):\n",
    "                    ts_1 = pd.Series(d1.iloc[t:t+w][col1].values)\n",
    "                    tf_1 = str(d1.iloc[t]['day'])+' - '+str(d1.iloc[t+w]['day'])\n",
    "                    \n",
    "                    ts_2 = pd.Series(d2.iloc[t:t+w][col2].values)\n",
    "                    tf_2 = str(d2.iloc[t]['day'])+' - '+str(d2.iloc[t+w]['day'])\n",
    "                    \n",
    "                    \n",
    "                    try:\n",
    "                        if is_stationary(ts_1) and is_stationary(ts_2):\n",
    "                            granger_test_data = pd.DataFrame()\n",
    "                            granger_test_data['d1'] = ts_1\n",
    "                            granger_test_data['d2'] = ts_2\n",
    "                            test_result = grangercausalitytests(granger_test_data,maxlag=max_lag,verbose=False)\n",
    "                            chisq_p_values = [round(test_result[i+1][0][chisq_test][1], 4) for i in range(max_lag)]\n",
    "                            ftest_p_values = [round(test_result[i+1][0][F_test][1], 4) for i in range(max_lag)]\n",
    "                        else:\n",
    "                            chisq_p_values = [np.nan for i in range(max_lag)]\n",
    "                            ftest_p_values = [np.nan for i in range(max_lag)] \n",
    "                    except:\n",
    "                        chisq_p_values = [np.nan for i in range(max_lag)]\n",
    "                        ftest_p_values = [np.nan for i in range(max_lag)]\n",
    "                    \n",
    "                    for l in range(1,max_lag+1):\n",
    "                        data_dict[i] = {\"window_size\":w,\n",
    "                                        \"lag\":l,\n",
    "                                        \"feature_1\":col1,\n",
    "                                        \"feature_1_timeframe\":tf_1,\n",
    "                                        \"feature_2\":col2,\n",
    "                                        \"feature_2_timeframe\":tf_2,\n",
    "                                        \"F_test_p_val\":ftest_p_values[l-1],\n",
    "                                        \"chisq_test_p_val\":chisq_p_values[l-1]}\n",
    "\n",
    "                        i += 1\n",
    "ft = time.time()"
   ]
  },
  {
   "cell_type": "code",
   "execution_count": 15,
   "metadata": {},
   "outputs": [
    {
     "data": {
      "text/plain": [
       "1272.4937012195587"
      ]
     },
     "execution_count": 15,
     "metadata": {},
     "output_type": "execute_result"
    }
   ],
   "source": [
    "ft-st"
   ]
  },
  {
   "cell_type": "code",
   "execution_count": 16,
   "metadata": {},
   "outputs": [
    {
     "data": {
      "text/html": [
       "<div>\n",
       "<style scoped>\n",
       "    .dataframe tbody tr th:only-of-type {\n",
       "        vertical-align: middle;\n",
       "    }\n",
       "\n",
       "    .dataframe tbody tr th {\n",
       "        vertical-align: top;\n",
       "    }\n",
       "\n",
       "    .dataframe thead th {\n",
       "        text-align: right;\n",
       "    }\n",
       "</style>\n",
       "<table border=\"1\" class=\"dataframe\">\n",
       "  <thead>\n",
       "    <tr style=\"text-align: right;\">\n",
       "      <th></th>\n",
       "      <th>window_size</th>\n",
       "      <th>lag</th>\n",
       "      <th>feature_1</th>\n",
       "      <th>feature_1_timeframe</th>\n",
       "      <th>feature_2</th>\n",
       "      <th>feature_2_timeframe</th>\n",
       "      <th>F_test_p_val</th>\n",
       "      <th>chisq_test_p_val</th>\n",
       "    </tr>\n",
       "  </thead>\n",
       "  <tbody>\n",
       "    <tr>\n",
       "      <th>0</th>\n",
       "      <td>120</td>\n",
       "      <td>1</td>\n",
       "      <td>log_close</td>\n",
       "      <td>2016-01-04 - 2016-05-03</td>\n",
       "      <td>log_pageview</td>\n",
       "      <td>2016-01-04 - 2016-05-03</td>\n",
       "      <td>NaN</td>\n",
       "      <td>NaN</td>\n",
       "    </tr>\n",
       "    <tr>\n",
       "      <th>1</th>\n",
       "      <td>120</td>\n",
       "      <td>2</td>\n",
       "      <td>log_close</td>\n",
       "      <td>2016-01-04 - 2016-05-03</td>\n",
       "      <td>log_pageview</td>\n",
       "      <td>2016-01-04 - 2016-05-03</td>\n",
       "      <td>NaN</td>\n",
       "      <td>NaN</td>\n",
       "    </tr>\n",
       "    <tr>\n",
       "      <th>2</th>\n",
       "      <td>120</td>\n",
       "      <td>3</td>\n",
       "      <td>log_close</td>\n",
       "      <td>2016-01-04 - 2016-05-03</td>\n",
       "      <td>log_pageview</td>\n",
       "      <td>2016-01-04 - 2016-05-03</td>\n",
       "      <td>NaN</td>\n",
       "      <td>NaN</td>\n",
       "    </tr>\n",
       "    <tr>\n",
       "      <th>3</th>\n",
       "      <td>120</td>\n",
       "      <td>4</td>\n",
       "      <td>log_close</td>\n",
       "      <td>2016-01-04 - 2016-05-03</td>\n",
       "      <td>log_pageview</td>\n",
       "      <td>2016-01-04 - 2016-05-03</td>\n",
       "      <td>NaN</td>\n",
       "      <td>NaN</td>\n",
       "    </tr>\n",
       "    <tr>\n",
       "      <th>4</th>\n",
       "      <td>120</td>\n",
       "      <td>5</td>\n",
       "      <td>log_close</td>\n",
       "      <td>2016-01-04 - 2016-05-03</td>\n",
       "      <td>log_pageview</td>\n",
       "      <td>2016-01-04 - 2016-05-03</td>\n",
       "      <td>NaN</td>\n",
       "      <td>NaN</td>\n",
       "    </tr>\n",
       "    <tr>\n",
       "      <th>...</th>\n",
       "      <td>...</td>\n",
       "      <td>...</td>\n",
       "      <td>...</td>\n",
       "      <td>...</td>\n",
       "      <td>...</td>\n",
       "      <td>...</td>\n",
       "      <td>...</td>\n",
       "      <td>...</td>\n",
       "    </tr>\n",
       "    <tr>\n",
       "      <th>453190</th>\n",
       "      <td>720</td>\n",
       "      <td>11</td>\n",
       "      <td>diff_ratio_close</td>\n",
       "      <td>2018-03-12 - 2020-03-01</td>\n",
       "      <td>diff_ratio_sma21</td>\n",
       "      <td>2018-03-12 - 2020-03-01</td>\n",
       "      <td>0.3038</td>\n",
       "      <td>0.2736</td>\n",
       "    </tr>\n",
       "    <tr>\n",
       "      <th>453191</th>\n",
       "      <td>720</td>\n",
       "      <td>12</td>\n",
       "      <td>diff_ratio_close</td>\n",
       "      <td>2018-03-12 - 2020-03-01</td>\n",
       "      <td>diff_ratio_sma21</td>\n",
       "      <td>2018-03-12 - 2020-03-01</td>\n",
       "      <td>0.3439</td>\n",
       "      <td>0.3087</td>\n",
       "    </tr>\n",
       "    <tr>\n",
       "      <th>453192</th>\n",
       "      <td>720</td>\n",
       "      <td>13</td>\n",
       "      <td>diff_ratio_close</td>\n",
       "      <td>2018-03-12 - 2020-03-01</td>\n",
       "      <td>diff_ratio_sma21</td>\n",
       "      <td>2018-03-12 - 2020-03-01</td>\n",
       "      <td>0.4588</td>\n",
       "      <td>0.4184</td>\n",
       "    </tr>\n",
       "    <tr>\n",
       "      <th>453193</th>\n",
       "      <td>720</td>\n",
       "      <td>14</td>\n",
       "      <td>diff_ratio_close</td>\n",
       "      <td>2018-03-12 - 2020-03-01</td>\n",
       "      <td>diff_ratio_sma21</td>\n",
       "      <td>2018-03-12 - 2020-03-01</td>\n",
       "      <td>0.5083</td>\n",
       "      <td>0.4638</td>\n",
       "    </tr>\n",
       "    <tr>\n",
       "      <th>453194</th>\n",
       "      <td>720</td>\n",
       "      <td>15</td>\n",
       "      <td>diff_ratio_close</td>\n",
       "      <td>2018-03-12 - 2020-03-01</td>\n",
       "      <td>diff_ratio_sma21</td>\n",
       "      <td>2018-03-12 - 2020-03-01</td>\n",
       "      <td>0.5403</td>\n",
       "      <td>0.4917</td>\n",
       "    </tr>\n",
       "  </tbody>\n",
       "</table>\n",
       "<p>453195 rows × 8 columns</p>\n",
       "</div>"
      ],
      "text/plain": [
       "        window_size  lag         feature_1      feature_1_timeframe  \\\n",
       "0               120    1         log_close  2016-01-04 - 2016-05-03   \n",
       "1               120    2         log_close  2016-01-04 - 2016-05-03   \n",
       "2               120    3         log_close  2016-01-04 - 2016-05-03   \n",
       "3               120    4         log_close  2016-01-04 - 2016-05-03   \n",
       "4               120    5         log_close  2016-01-04 - 2016-05-03   \n",
       "...             ...  ...               ...                      ...   \n",
       "453190          720   11  diff_ratio_close  2018-03-12 - 2020-03-01   \n",
       "453191          720   12  diff_ratio_close  2018-03-12 - 2020-03-01   \n",
       "453192          720   13  diff_ratio_close  2018-03-12 - 2020-03-01   \n",
       "453193          720   14  diff_ratio_close  2018-03-12 - 2020-03-01   \n",
       "453194          720   15  diff_ratio_close  2018-03-12 - 2020-03-01   \n",
       "\n",
       "               feature_2      feature_2_timeframe  F_test_p_val  \\\n",
       "0           log_pageview  2016-01-04 - 2016-05-03           NaN   \n",
       "1           log_pageview  2016-01-04 - 2016-05-03           NaN   \n",
       "2           log_pageview  2016-01-04 - 2016-05-03           NaN   \n",
       "3           log_pageview  2016-01-04 - 2016-05-03           NaN   \n",
       "4           log_pageview  2016-01-04 - 2016-05-03           NaN   \n",
       "...                  ...                      ...           ...   \n",
       "453190  diff_ratio_sma21  2018-03-12 - 2020-03-01        0.3038   \n",
       "453191  diff_ratio_sma21  2018-03-12 - 2020-03-01        0.3439   \n",
       "453192  diff_ratio_sma21  2018-03-12 - 2020-03-01        0.4588   \n",
       "453193  diff_ratio_sma21  2018-03-12 - 2020-03-01        0.5083   \n",
       "453194  diff_ratio_sma21  2018-03-12 - 2020-03-01        0.5403   \n",
       "\n",
       "        chisq_test_p_val  \n",
       "0                    NaN  \n",
       "1                    NaN  \n",
       "2                    NaN  \n",
       "3                    NaN  \n",
       "4                    NaN  \n",
       "...                  ...  \n",
       "453190            0.2736  \n",
       "453191            0.3087  \n",
       "453192            0.4184  \n",
       "453193            0.4638  \n",
       "453194            0.4917  \n",
       "\n",
       "[453195 rows x 8 columns]"
      ]
     },
     "execution_count": 16,
     "metadata": {},
     "output_type": "execute_result"
    }
   ],
   "source": [
    "data = pd.DataFrame.from_dict(data_dict, \"index\")\n",
    "data"
   ]
  },
  {
   "cell_type": "code",
   "execution_count": 17,
   "metadata": {},
   "outputs": [],
   "source": [
    "data_ = data[data['F_test_p_val'] > 0].copy()"
   ]
  },
  {
   "cell_type": "code",
   "execution_count": 18,
   "metadata": {},
   "outputs": [
    {
     "data": {
      "text/plain": [
       "(270348, 8)"
      ]
     },
     "execution_count": 18,
     "metadata": {},
     "output_type": "execute_result"
    }
   ],
   "source": [
    "data_.shape"
   ]
  },
  {
   "cell_type": "code",
   "execution_count": 19,
   "metadata": {},
   "outputs": [],
   "source": [
    "file_name = 'generated_causality_data/'+um+'/'\n",
    "file_name += ak+'_'+exchange+'.csv'"
   ]
  },
  {
   "cell_type": "code",
   "execution_count": 20,
   "metadata": {},
   "outputs": [
    {
     "data": {
      "text/plain": [
       "'generated_causality_data/wiki_pageview/Bitcoin_btc-usd.csv'"
      ]
     },
     "execution_count": 20,
     "metadata": {},
     "output_type": "execute_result"
    }
   ],
   "source": [
    "file_name"
   ]
  },
  {
   "cell_type": "code",
   "execution_count": 21,
   "metadata": {},
   "outputs": [],
   "source": [
    "data_.to_csv(file_name,index=False)"
   ]
  },
  {
   "cell_type": "code",
   "execution_count": null,
   "metadata": {},
   "outputs": [],
   "source": []
  }
 ],
 "metadata": {
  "kernelspec": {
   "display_name": "Python 3",
   "language": "python",
   "name": "python3"
  },
  "language_info": {
   "codemirror_mode": {
    "name": "ipython",
    "version": 3
   },
   "file_extension": ".py",
   "mimetype": "text/x-python",
   "name": "python",
   "nbconvert_exporter": "python",
   "pygments_lexer": "ipython3",
   "version": "3.8.3"
  }
 },
 "nbformat": 4,
 "nbformat_minor": 4
}
